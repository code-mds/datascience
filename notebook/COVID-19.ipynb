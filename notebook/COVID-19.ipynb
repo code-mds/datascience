{
 "cells": [
  {
   "cell_type": "markdown",
   "metadata": {},
   "source": [
    "# Introduction to Pandas, Numpy, Plotly using COVID-19 data\n",
    "\n",
    "This notebook uses data from the [2019 Novel Coronavirus COVID-19 (2019-nCoV) Data Repository by Johns Hopkins CSSE](https://github.com/CSSEGISandData/COVID-19)"
   ]
  },
  {
   "cell_type": "code",
   "execution_count": 1,
   "metadata": {},
   "outputs": [
    {
     "name": "stdout",
     "output_type": "stream",
     "text": [
      "Last executed 2020-03-24 22:46:14.748089\n"
     ]
    }
   ],
   "source": [
    "import datetime\n",
    "print(f\"Last executed {datetime.datetime.now()}\")"
   ]
  },
  {
   "cell_type": "code",
   "execution_count": 2,
   "metadata": {},
   "outputs": [
    {
     "ename": "ModuleNotFoundError",
     "evalue": "No module named 'plotly'",
     "output_type": "error",
     "traceback": [
      "\u001b[1;31m---------------------------------------------------------------------------\u001b[0m",
      "\u001b[1;31mModuleNotFoundError\u001b[0m                       Traceback (most recent call last)",
      "\u001b[1;32m<ipython-input-2-05740028facf>\u001b[0m in \u001b[0;36m<module>\u001b[1;34m\u001b[0m\n\u001b[0;32m      1\u001b[0m \u001b[1;32mimport\u001b[0m \u001b[0mpandas\u001b[0m \u001b[1;32mas\u001b[0m \u001b[0mpd\u001b[0m\u001b[1;33m\u001b[0m\u001b[1;33m\u001b[0m\u001b[0m\n\u001b[0;32m      2\u001b[0m \u001b[1;32mimport\u001b[0m \u001b[0mnumpy\u001b[0m \u001b[1;32mas\u001b[0m \u001b[0mnp\u001b[0m\u001b[1;33m\u001b[0m\u001b[1;33m\u001b[0m\u001b[0m\n\u001b[1;32m----> 3\u001b[1;33m \u001b[1;32mimport\u001b[0m \u001b[0mplotly\u001b[0m\u001b[1;33m.\u001b[0m\u001b[0mgraph_objects\u001b[0m \u001b[1;32mas\u001b[0m \u001b[0mgo\u001b[0m\u001b[1;33m\u001b[0m\u001b[1;33m\u001b[0m\u001b[0m\n\u001b[0m",
      "\u001b[1;31mModuleNotFoundError\u001b[0m: No module named 'plotly'"
     ]
    }
   ],
   "source": [
    "import pandas as pd\n",
    "import numpy as np\n",
    "import plotly.graph_objects as go"
   ]
  },
  {
   "cell_type": "markdown",
   "metadata": {},
   "source": [
    "## Importing data"
   ]
  },
  {
   "cell_type": "code",
   "execution_count": null,
   "metadata": {},
   "outputs": [],
   "source": [
    "def geturl(var):\n",
    "    return f\"https://raw.githubusercontent.com/CSSEGISandData/COVID-19/master/csse_covid_19_data/csse_covid_19_time_series/time_series_19-covid-{var}.csv\"\n",
    "\n",
    "df = pd.read_csv(geturl(\"Confirmed\")) # also try \"Deaths\" and \"Recovered\""
   ]
  },
  {
   "cell_type": "code",
   "execution_count": null,
   "metadata": {},
   "outputs": [],
   "source": [
    "df"
   ]
  },
  {
   "cell_type": "markdown",
   "metadata": {},
   "source": [
    "Choose below which data to consider.  The cell will select the appropriate row for the table, and only consider columns from the fifth onwards (i.e. ignoring the first four) "
   ]
  },
  {
   "cell_type": "code",
   "execution_count": null,
   "metadata": {},
   "outputs": [],
   "source": [
    "place = \"Beijing\"\n",
    "cases = df[df.loc[:,\"Province/State\"] == place].iloc[0,4:]"
   ]
  },
  {
   "cell_type": "code",
   "execution_count": null,
   "metadata": {},
   "outputs": [],
   "source": [
    "place = \"Italy\"\n",
    "cases = df[df.loc[:,\"Country/Region\"] == place].iloc[0,4:]"
   ]
  },
  {
   "cell_type": "code",
   "execution_count": null,
   "metadata": {},
   "outputs": [],
   "source": [
    "dates = cases.index \n",
    "cases = cases.values.astype(int)"
   ]
  },
  {
   "cell_type": "code",
   "execution_count": null,
   "metadata": {},
   "outputs": [],
   "source": [
    "dates # Note: this is just a sequence of strings"
   ]
  },
  {
   "cell_type": "code",
   "execution_count": null,
   "metadata": {},
   "outputs": [],
   "source": [
    "cases"
   ]
  },
  {
   "cell_type": "code",
   "execution_count": null,
   "metadata": {},
   "outputs": [],
   "source": [
    "for date,case in zip(dates,cases):\n",
    "    print(f\"{date:8s} {case}\")"
   ]
  },
  {
   "cell_type": "code",
   "execution_count": null,
   "metadata": {},
   "outputs": [],
   "source": [
    "cases.shape"
   ]
  },
  {
   "cell_type": "markdown",
   "metadata": {},
   "source": [
    "## [Data wrangling](https://en.wikipedia.org/wiki/Data_wrangling)"
   ]
  },
  {
   "cell_type": "markdown",
   "metadata": {},
   "source": [
    "For each day, compute the number of new cases with respect to the previous day"
   ]
  },
  {
   "cell_type": "code",
   "execution_count": null,
   "metadata": {},
   "outputs": [],
   "source": [
    "newcases = np.zeros(cases.shape, dtype=int)\n",
    "for i in range(1,len(cases)):\n",
    "    newcases[i] = cases[i] - cases[i-1]\n",
    "newcases"
   ]
  },
  {
   "cell_type": "markdown",
   "metadata": {},
   "source": [
    "The same thing can be done in a more pythonic way as follows (see the [documentation of `np.diff`](https://docs.scipy.org/doc/numpy/reference/generated/numpy.diff.html))"
   ]
  },
  {
   "cell_type": "code",
   "execution_count": null,
   "metadata": {},
   "outputs": [],
   "source": [
    "newcases = np.diff(cases, prepend=cases[0])\n",
    "newcases"
   ]
  },
  {
   "cell_type": "markdown",
   "metadata": {},
   "source": [
    "## Visualization"
   ]
  },
  {
   "cell_type": "code",
   "execution_count": null,
   "metadata": {},
   "outputs": [],
   "source": [
    "traces = [\n",
    "    go.Scatter(x=dates, y=cases, name=\"total number of cases\"),\n",
    "    go.Bar(x=dates, y=newcases, name=\"new cases for the day\")\n",
    "]\n",
    "layout = go.Layout(title=f\"COVID-19 cases in {place}\",\n",
    "                   xaxis=dict(title=\"date\"),\n",
    "                   yaxis={'title':'number of people'})\n",
    "fig = go.Figure(data=traces, layout=layout)\n",
    "fig"
   ]
  },
  {
   "cell_type": "markdown",
   "metadata": {},
   "source": [
    "# Exercises\n",
    "\n",
    "## 1\n",
    "Repeat the analysis above by considering all of Mainland China\n",
    "\n",
    "## 2\n",
    "Add the number of recovered people and the number of deaths to the plots above.\n",
    "\n",
    "## 3\n",
    "For all places with at least 100 confirmed cases, compute the mortality rate, i.e. #deaths / #confirmed.  Rank the different places from the place where the virus proves most deadly to least, and visualize this information as a horizontal bar graph.  Also see [an interesting note on mortality rate](https://www.worldometers.info/coronavirus/coronavirus-death-rate/)."
   ]
  },
  {
   "cell_type": "markdown",
   "metadata": {},
   "source": [
    "# Some solutions\n",
    "Note improvements vs the code written above"
   ]
  },
  {
   "cell_type": "code",
   "execution_count": null,
   "metadata": {},
   "outputs": [],
   "source": [
    "def getall(var):\n",
    "    \"\"\" Returns a series for the variable in `var` (valid options: \"Confirmed\", \"Deaths\", \"Recovered\").\n",
    "    The series reports the sum of cases over all places \"\"\"\n",
    "    df = pd.read_csv(geturl(var))\n",
    "    s = df.iloc[:,4:].sum(axis=0)\n",
    "    s.index = pd.to_datetime(s.index)\n",
    "    return s\n",
    "\n",
    "df = pd.concat(dict(confirmed=getall(\"Confirmed\"),\n",
    "                    dead=getall(\"Deaths\"),\n",
    "                    recovered=getall(\"Recovered\")),\n",
    "               axis=1)\n",
    "\n",
    "df[\"sick\"] = df[\"confirmed\"] - df[\"dead\"] - df[\"recovered\"]\n",
    "df[\"newconfirmed\"] = df[\"confirmed\"].diff()\n",
    "df"
   ]
  },
  {
   "cell_type": "code",
   "execution_count": null,
   "metadata": {},
   "outputs": [],
   "source": [
    "traces = [\n",
    "    go.Scatter(x=df.index, y=df[\"confirmed\"], name=\"confirmed\", line=dict(color='black', width=2)),\n",
    "    go.Scatter(x=df.index, y=df[\"dead\"], name=\"dead\", line=dict(color='gray', width=2)),\n",
    "    go.Scatter(x=df.index, y=df[\"sick\"], name=\"sick\", line=dict(color='green', width=4)),\n",
    "    go.Bar(x=df.index, y=df[\"newconfirmed\"], name=\"newconfirmed\", marker_color=\"red\")\n",
    "]\n",
    "layout = go.Layout(title=f\"COVID-19 cases\",\n",
    "                   xaxis=dict(title=\"date\"),\n",
    "                   yaxis=dict(title='number of people'))\n",
    "fig = go.Figure(data=traces, layout=layout)\n",
    "fig"
   ]
  }
 ],
 "metadata": {
  "kernelspec": {
   "display_name": "Python 3",
   "language": "python",
   "name": "python3"
  },
  "language_info": {
   "codemirror_mode": {
    "name": "ipython",
    "version": 3
   },
   "file_extension": ".py",
   "mimetype": "text/x-python",
   "name": "python",
   "nbconvert_exporter": "python",
   "pygments_lexer": "ipython3",
   "version": "3.7.4"
  }
 },
 "nbformat": 4,
 "nbformat_minor": 4
}
