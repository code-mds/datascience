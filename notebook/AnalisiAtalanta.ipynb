{
 "cells": [
  {
   "cell_type": "markdown",
   "metadata": {},
   "source": [
    "# Atalanta 2010-2020 from Serie B to Champions\n",
    "\n",
    "This notebook uses data from the [https://www.football-data.co.uk]"
   ]
  },
  {
   "cell_type": "code",
   "execution_count": 58,
   "metadata": {},
   "outputs": [
    {
     "data": {
      "text/html": [
       "<div>\n",
       "<style scoped>\n",
       "    .dataframe tbody tr th:only-of-type {\n",
       "        vertical-align: middle;\n",
       "    }\n",
       "\n",
       "    .dataframe tbody tr th {\n",
       "        vertical-align: top;\n",
       "    }\n",
       "\n",
       "    .dataframe thead th {\n",
       "        text-align: right;\n",
       "    }\n",
       "</style>\n",
       "<table border=\"1\" class=\"dataframe\">\n",
       "  <thead>\n",
       "    <tr style=\"text-align: right;\">\n",
       "      <th></th>\n",
       "      <th>Date</th>\n",
       "      <th>HomeTeam</th>\n",
       "      <th>AwayTeam</th>\n",
       "      <th>FTHG</th>\n",
       "      <th>FTAG</th>\n",
       "      <th>FTR</th>\n",
       "      <th>HS</th>\n",
       "      <th>AS</th>\n",
       "      <th>HST</th>\n",
       "      <th>AST</th>\n",
       "      <th>HF</th>\n",
       "      <th>AF</th>\n",
       "      <th>HC</th>\n",
       "      <th>AC</th>\n",
       "      <th>HY</th>\n",
       "      <th>AY</th>\n",
       "      <th>HR</th>\n",
       "      <th>AR</th>\n",
       "    </tr>\n",
       "    <tr>\n",
       "      <th>Season</th>\n",
       "      <th></th>\n",
       "      <th></th>\n",
       "      <th></th>\n",
       "      <th></th>\n",
       "      <th></th>\n",
       "      <th></th>\n",
       "      <th></th>\n",
       "      <th></th>\n",
       "      <th></th>\n",
       "      <th></th>\n",
       "      <th></th>\n",
       "      <th></th>\n",
       "      <th></th>\n",
       "      <th></th>\n",
       "      <th></th>\n",
       "      <th></th>\n",
       "      <th></th>\n",
       "      <th></th>\n",
       "    </tr>\n",
       "  </thead>\n",
       "  <tbody>\n",
       "    <tr>\n",
       "      <th>11/12</th>\n",
       "      <td>2011-09-09</td>\n",
       "      <td>Milan</td>\n",
       "      <td>Lazio</td>\n",
       "      <td>2.0</td>\n",
       "      <td>2.0</td>\n",
       "      <td>D</td>\n",
       "      <td>18.0</td>\n",
       "      <td>12.0</td>\n",
       "      <td>8.0</td>\n",
       "      <td>5.0</td>\n",
       "      <td>16.0</td>\n",
       "      <td>15.0</td>\n",
       "      <td>3.0</td>\n",
       "      <td>1.0</td>\n",
       "      <td>2.0</td>\n",
       "      <td>2.0</td>\n",
       "      <td>0.0</td>\n",
       "      <td>0.0</td>\n",
       "    </tr>\n",
       "    <tr>\n",
       "      <th>11/12</th>\n",
       "      <td>2011-10-09</td>\n",
       "      <td>Cesena</td>\n",
       "      <td>Napoli</td>\n",
       "      <td>1.0</td>\n",
       "      <td>3.0</td>\n",
       "      <td>A</td>\n",
       "      <td>11.0</td>\n",
       "      <td>18.0</td>\n",
       "      <td>3.0</td>\n",
       "      <td>6.0</td>\n",
       "      <td>14.0</td>\n",
       "      <td>12.0</td>\n",
       "      <td>4.0</td>\n",
       "      <td>6.0</td>\n",
       "      <td>2.0</td>\n",
       "      <td>3.0</td>\n",
       "      <td>1.0</td>\n",
       "      <td>0.0</td>\n",
       "    </tr>\n",
       "    <tr>\n",
       "      <th>11/12</th>\n",
       "      <td>2011-11-09</td>\n",
       "      <td>Catania</td>\n",
       "      <td>Siena</td>\n",
       "      <td>0.0</td>\n",
       "      <td>0.0</td>\n",
       "      <td>D</td>\n",
       "      <td>9.0</td>\n",
       "      <td>4.0</td>\n",
       "      <td>1.0</td>\n",
       "      <td>2.0</td>\n",
       "      <td>14.0</td>\n",
       "      <td>25.0</td>\n",
       "      <td>4.0</td>\n",
       "      <td>4.0</td>\n",
       "      <td>2.0</td>\n",
       "      <td>4.0</td>\n",
       "      <td>0.0</td>\n",
       "      <td>0.0</td>\n",
       "    </tr>\n",
       "    <tr>\n",
       "      <th>11/12</th>\n",
       "      <td>2011-11-09</td>\n",
       "      <td>Chievo</td>\n",
       "      <td>Novara</td>\n",
       "      <td>2.0</td>\n",
       "      <td>2.0</td>\n",
       "      <td>D</td>\n",
       "      <td>11.0</td>\n",
       "      <td>14.0</td>\n",
       "      <td>4.0</td>\n",
       "      <td>4.0</td>\n",
       "      <td>20.0</td>\n",
       "      <td>17.0</td>\n",
       "      <td>0.0</td>\n",
       "      <td>6.0</td>\n",
       "      <td>1.0</td>\n",
       "      <td>1.0</td>\n",
       "      <td>1.0</td>\n",
       "      <td>0.0</td>\n",
       "    </tr>\n",
       "    <tr>\n",
       "      <th>11/12</th>\n",
       "      <td>2011-11-09</td>\n",
       "      <td>Fiorentina</td>\n",
       "      <td>Bologna</td>\n",
       "      <td>2.0</td>\n",
       "      <td>0.0</td>\n",
       "      <td>H</td>\n",
       "      <td>15.0</td>\n",
       "      <td>14.0</td>\n",
       "      <td>7.0</td>\n",
       "      <td>2.0</td>\n",
       "      <td>22.0</td>\n",
       "      <td>12.0</td>\n",
       "      <td>12.0</td>\n",
       "      <td>1.0</td>\n",
       "      <td>1.0</td>\n",
       "      <td>1.0</td>\n",
       "      <td>0.0</td>\n",
       "      <td>0.0</td>\n",
       "    </tr>\n",
       "    <tr>\n",
       "      <th>...</th>\n",
       "      <td>...</td>\n",
       "      <td>...</td>\n",
       "      <td>...</td>\n",
       "      <td>...</td>\n",
       "      <td>...</td>\n",
       "      <td>...</td>\n",
       "      <td>...</td>\n",
       "      <td>...</td>\n",
       "      <td>...</td>\n",
       "      <td>...</td>\n",
       "      <td>...</td>\n",
       "      <td>...</td>\n",
       "      <td>...</td>\n",
       "      <td>...</td>\n",
       "      <td>...</td>\n",
       "      <td>...</td>\n",
       "      <td>...</td>\n",
       "      <td>...</td>\n",
       "    </tr>\n",
       "    <tr>\n",
       "      <th>18/19</th>\n",
       "      <td>2019-05-26</td>\n",
       "      <td>Inter</td>\n",
       "      <td>Empoli</td>\n",
       "      <td>2.0</td>\n",
       "      <td>1.0</td>\n",
       "      <td>H</td>\n",
       "      <td>20.0</td>\n",
       "      <td>9.0</td>\n",
       "      <td>15.0</td>\n",
       "      <td>5.0</td>\n",
       "      <td>11.0</td>\n",
       "      <td>9.0</td>\n",
       "      <td>8.0</td>\n",
       "      <td>2.0</td>\n",
       "      <td>4.0</td>\n",
       "      <td>2.0</td>\n",
       "      <td>1.0</td>\n",
       "      <td>1.0</td>\n",
       "    </tr>\n",
       "    <tr>\n",
       "      <th>18/19</th>\n",
       "      <td>2019-05-26</td>\n",
       "      <td>Roma</td>\n",
       "      <td>Parma</td>\n",
       "      <td>2.0</td>\n",
       "      <td>1.0</td>\n",
       "      <td>H</td>\n",
       "      <td>16.0</td>\n",
       "      <td>9.0</td>\n",
       "      <td>8.0</td>\n",
       "      <td>5.0</td>\n",
       "      <td>13.0</td>\n",
       "      <td>8.0</td>\n",
       "      <td>13.0</td>\n",
       "      <td>8.0</td>\n",
       "      <td>2.0</td>\n",
       "      <td>1.0</td>\n",
       "      <td>0.0</td>\n",
       "      <td>0.0</td>\n",
       "    </tr>\n",
       "    <tr>\n",
       "      <th>18/19</th>\n",
       "      <td>2019-05-26</td>\n",
       "      <td>Sampdoria</td>\n",
       "      <td>Juventus</td>\n",
       "      <td>2.0</td>\n",
       "      <td>0.0</td>\n",
       "      <td>H</td>\n",
       "      <td>10.0</td>\n",
       "      <td>6.0</td>\n",
       "      <td>3.0</td>\n",
       "      <td>1.0</td>\n",
       "      <td>6.0</td>\n",
       "      <td>12.0</td>\n",
       "      <td>7.0</td>\n",
       "      <td>6.0</td>\n",
       "      <td>0.0</td>\n",
       "      <td>2.0</td>\n",
       "      <td>0.0</td>\n",
       "      <td>0.0</td>\n",
       "    </tr>\n",
       "    <tr>\n",
       "      <th>18/19</th>\n",
       "      <td>2019-05-26</td>\n",
       "      <td>Spal</td>\n",
       "      <td>Milan</td>\n",
       "      <td>2.0</td>\n",
       "      <td>3.0</td>\n",
       "      <td>A</td>\n",
       "      <td>7.0</td>\n",
       "      <td>16.0</td>\n",
       "      <td>4.0</td>\n",
       "      <td>8.0</td>\n",
       "      <td>17.0</td>\n",
       "      <td>13.0</td>\n",
       "      <td>8.0</td>\n",
       "      <td>4.0</td>\n",
       "      <td>2.0</td>\n",
       "      <td>2.0</td>\n",
       "      <td>0.0</td>\n",
       "      <td>0.0</td>\n",
       "    </tr>\n",
       "    <tr>\n",
       "      <th>18/19</th>\n",
       "      <td>2019-05-26</td>\n",
       "      <td>Torino</td>\n",
       "      <td>Lazio</td>\n",
       "      <td>3.0</td>\n",
       "      <td>1.0</td>\n",
       "      <td>H</td>\n",
       "      <td>9.0</td>\n",
       "      <td>9.0</td>\n",
       "      <td>7.0</td>\n",
       "      <td>4.0</td>\n",
       "      <td>9.0</td>\n",
       "      <td>10.0</td>\n",
       "      <td>5.0</td>\n",
       "      <td>5.0</td>\n",
       "      <td>0.0</td>\n",
       "      <td>1.0</td>\n",
       "      <td>0.0</td>\n",
       "      <td>0.0</td>\n",
       "    </tr>\n",
       "  </tbody>\n",
       "</table>\n",
       "<p>3045 rows × 18 columns</p>\n",
       "</div>"
      ],
      "text/plain": [
       "             Date    HomeTeam  AwayTeam  FTHG  FTAG FTR    HS    AS   HST  \\\n",
       "Season                                                                      \n",
       "11/12  2011-09-09       Milan     Lazio   2.0   2.0   D  18.0  12.0   8.0   \n",
       "11/12  2011-10-09      Cesena    Napoli   1.0   3.0   A  11.0  18.0   3.0   \n",
       "11/12  2011-11-09     Catania     Siena   0.0   0.0   D   9.0   4.0   1.0   \n",
       "11/12  2011-11-09      Chievo    Novara   2.0   2.0   D  11.0  14.0   4.0   \n",
       "11/12  2011-11-09  Fiorentina   Bologna   2.0   0.0   H  15.0  14.0   7.0   \n",
       "...           ...         ...       ...   ...   ...  ..   ...   ...   ...   \n",
       "18/19  2019-05-26       Inter    Empoli   2.0   1.0   H  20.0   9.0  15.0   \n",
       "18/19  2019-05-26        Roma     Parma   2.0   1.0   H  16.0   9.0   8.0   \n",
       "18/19  2019-05-26   Sampdoria  Juventus   2.0   0.0   H  10.0   6.0   3.0   \n",
       "18/19  2019-05-26        Spal     Milan   2.0   3.0   A   7.0  16.0   4.0   \n",
       "18/19  2019-05-26      Torino     Lazio   3.0   1.0   H   9.0   9.0   7.0   \n",
       "\n",
       "        AST    HF    AF    HC   AC   HY   AY   HR   AR  \n",
       "Season                                                  \n",
       "11/12   5.0  16.0  15.0   3.0  1.0  2.0  2.0  0.0  0.0  \n",
       "11/12   6.0  14.0  12.0   4.0  6.0  2.0  3.0  1.0  0.0  \n",
       "11/12   2.0  14.0  25.0   4.0  4.0  2.0  4.0  0.0  0.0  \n",
       "11/12   4.0  20.0  17.0   0.0  6.0  1.0  1.0  1.0  0.0  \n",
       "11/12   2.0  22.0  12.0  12.0  1.0  1.0  1.0  0.0  0.0  \n",
       "...     ...   ...   ...   ...  ...  ...  ...  ...  ...  \n",
       "18/19   5.0  11.0   9.0   8.0  2.0  4.0  2.0  1.0  1.0  \n",
       "18/19   5.0  13.0   8.0  13.0  8.0  2.0  1.0  0.0  0.0  \n",
       "18/19   1.0   6.0  12.0   7.0  6.0  0.0  2.0  0.0  0.0  \n",
       "18/19   8.0  17.0  13.0   8.0  4.0  2.0  2.0  0.0  0.0  \n",
       "18/19   4.0   9.0  10.0   5.0  5.0  0.0  1.0  0.0  0.0  \n",
       "\n",
       "[3045 rows x 18 columns]"
      ]
     },
     "execution_count": 58,
     "metadata": {},
     "output_type": "execute_result"
    }
   ],
   "source": [
    "import pandas as pd\n",
    "import numpy as np\n",
    "import plotly.graph_objects as go\n",
    "import datetime\n",
    "\n",
    "seasons = []\n",
    "for year in range(11,19):\n",
    "    seasons.append(str(year)+str(year+1))\n",
    "\n",
    "def geturl(var):\n",
    "    return f\"https://www.football-data.co.uk/mmz4281/{var}/I1.csv\"\n",
    "\n",
    "# Div = League Division\n",
    "# Date = Match Date (dd/mm/yy)\n",
    "# HomeTeam = Home Team\n",
    "# AwayTeam = Away Team\n",
    "# FTR and Res = Full Time Result (H=Home Win, D=Draw, A=Away Win)\n",
    "base_cols=['Date', 'HomeTeam', 'AwayTeam', 'FTR']\n",
    "\n",
    "# Match Statistics (where available)\n",
    "\n",
    "# FTHG and HG = Full Time Home Team Goals\n",
    "# HS = Home Team Shots\n",
    "# HST = Home Team Shots on Target\n",
    "# HHW = Home Team Hit Woodwork (NOT AVAILABLE)\n",
    "# HC = Home Team Corners\n",
    "# HF = Home Team Fouls Committed\n",
    "# HFKC = Home Team Free Kicks Conceded (NOT AVAILABLE)\n",
    "# HO = Home Team Offsides (NOT AVAILABLE)\n",
    "# HY = Home Team Yellow Cards\n",
    "# HR = Home Team Red Cards\n",
    "home_cols=['FTHG','HS','HST','HF','HC','HY','HR']\n",
    "\n",
    "# FTAG and AG = Full Time Away Team Goals\n",
    "# AS = Away Team Shots\n",
    "# AST = Away Team Shots on Target\n",
    "# AHW = Away Team Hit Woodwork (NOT AVAILABLE)\n",
    "# AC = Away Team Corners\n",
    "# AF = Away Team Fouls Committed\n",
    "# AFKC = Away Team Free Kicks Conceded (NOT AVAILABLE)\n",
    "# AO = Away Team Offsides (NOT AVAILABLE)\n",
    "# AY = Away Team Yellow Cards\n",
    "# AR = Away Team Red Cards\n",
    "away_cols =['FTAG','AS','AST','AF','AC','AY','AR']\n",
    "use_cols = base_cols + home_cols + away_cols\n",
    "\n",
    "li = []\n",
    "for season in seasons:\n",
    "    #df = pd.read_csv(geturl(season), index_col='Date', parse_dates=['Date']) \n",
    "    df = pd.read_csv(geturl(season), parse_dates=['Date'], usecols=use_cols)     \n",
    "    df['Season'] = season[0:2] + '/' + season[2:]\n",
    "    li.append(df)\n",
    "\n",
    "df = pd.concat(li, sort=False)\n",
    "df.set_index('Season', inplace=True)\n",
    "    \n",
    "#FTHG and HG = Full Time Home Team Goals\n",
    "#FTAG and AG = Full Time Away Team Goals\n",
    "#FTR and Res = Full Time Result (H=Home Win, D=Draw, A=Away Win)\n",
    "team = \"Atalanta\"\n",
    "home_filter = df.loc[:,\"HomeTeam\"] == team\n",
    "away_filter = df.loc[:,\"AwayTeam\"] == team\n",
    "#allcases = df[home|away].iloc[:,1:22]\n",
    "homedf = df[home_filter]\n",
    "awaydf = df[away_filter]\n",
    "df"
   ]
  },
  {
   "cell_type": "code",
   "execution_count": 59,
   "metadata": {},
   "outputs": [
    {
     "name": "stdout",
     "output_type": "stream",
     "text": [
      "home_stats\n",
      "         Goal  Shots  ShotsTarget  Corner  Fouls  YellowCard  RedCard\n",
      "Season                                                              \n",
      "11/12   23.0  229.0         78.0   302.0   98.0        50.0      1.0\n",
      "12/13   19.0  223.0         68.0   282.0  100.0        54.0      7.0\n",
      "13/14   28.0  247.0         85.0   251.0  110.0        38.0      0.0\n",
      "14/15   22.0  271.0         74.0   307.0  105.0        49.0      7.0\n",
      "15/16   27.0  254.0         80.0   301.0  118.0        41.0      4.0\n",
      "16/17   31.0  299.0        114.0   277.0  132.0        40.0      0.0\n",
      "17/18   30.0  302.0         92.0   229.0  110.0        30.0      2.0\n",
      "18/19   36.0  250.0        133.0   213.0  139.0        28.0      0.0\n",
      "away_stats\n",
      "         Goal  Shots  ShotsTarget  Corner  Fouls  YellowCard  RedCard\n",
      "Season                                                              \n",
      "11/12   18.0  184.0         64.0   290.0   91.0        46.0      3.0\n",
      "12/13   20.0  186.0         61.0   303.0   80.0        51.0      6.0\n",
      "13/14   15.0  200.0         69.0   274.0   80.0        43.0      6.0\n",
      "14/15   16.0  192.0         58.0   322.0   88.0        54.0      2.0\n",
      "15/16   14.0  200.0         57.0   335.0   72.0        54.0     10.0\n",
      "16/17   31.0  235.0         87.0   326.0   97.0        45.0      3.0\n",
      "17/18   27.0  271.0        105.0   262.0  119.0        37.0      2.0\n",
      "18/19   41.0  225.0        121.0   216.0  103.0        33.0      3.0\n"
     ]
    },
    {
     "data": {
      "text/html": [
       "<div>\n",
       "<style scoped>\n",
       "    .dataframe tbody tr th:only-of-type {\n",
       "        vertical-align: middle;\n",
       "    }\n",
       "\n",
       "    .dataframe tbody tr th {\n",
       "        vertical-align: top;\n",
       "    }\n",
       "\n",
       "    .dataframe thead th {\n",
       "        text-align: right;\n",
       "    }\n",
       "</style>\n",
       "<table border=\"1\" class=\"dataframe\">\n",
       "  <thead>\n",
       "    <tr style=\"text-align: right;\">\n",
       "      <th></th>\n",
       "      <th>Goal</th>\n",
       "      <th>Shots</th>\n",
       "      <th>ShotsTarget</th>\n",
       "      <th>Corner</th>\n",
       "      <th>Fouls</th>\n",
       "      <th>YellowCard</th>\n",
       "      <th>RedCard</th>\n",
       "    </tr>\n",
       "    <tr>\n",
       "      <th>Season</th>\n",
       "      <th></th>\n",
       "      <th></th>\n",
       "      <th></th>\n",
       "      <th></th>\n",
       "      <th></th>\n",
       "      <th></th>\n",
       "      <th></th>\n",
       "    </tr>\n",
       "  </thead>\n",
       "  <tbody>\n",
       "    <tr>\n",
       "      <th>11/12</th>\n",
       "      <td>41.0</td>\n",
       "      <td>413.0</td>\n",
       "      <td>142.0</td>\n",
       "      <td>592.0</td>\n",
       "      <td>189.0</td>\n",
       "      <td>96.0</td>\n",
       "      <td>4.0</td>\n",
       "    </tr>\n",
       "    <tr>\n",
       "      <th>12/13</th>\n",
       "      <td>39.0</td>\n",
       "      <td>409.0</td>\n",
       "      <td>129.0</td>\n",
       "      <td>585.0</td>\n",
       "      <td>180.0</td>\n",
       "      <td>105.0</td>\n",
       "      <td>13.0</td>\n",
       "    </tr>\n",
       "    <tr>\n",
       "      <th>13/14</th>\n",
       "      <td>43.0</td>\n",
       "      <td>447.0</td>\n",
       "      <td>154.0</td>\n",
       "      <td>525.0</td>\n",
       "      <td>190.0</td>\n",
       "      <td>81.0</td>\n",
       "      <td>6.0</td>\n",
       "    </tr>\n",
       "    <tr>\n",
       "      <th>14/15</th>\n",
       "      <td>38.0</td>\n",
       "      <td>463.0</td>\n",
       "      <td>132.0</td>\n",
       "      <td>629.0</td>\n",
       "      <td>193.0</td>\n",
       "      <td>103.0</td>\n",
       "      <td>9.0</td>\n",
       "    </tr>\n",
       "    <tr>\n",
       "      <th>15/16</th>\n",
       "      <td>41.0</td>\n",
       "      <td>454.0</td>\n",
       "      <td>137.0</td>\n",
       "      <td>636.0</td>\n",
       "      <td>190.0</td>\n",
       "      <td>95.0</td>\n",
       "      <td>14.0</td>\n",
       "    </tr>\n",
       "    <tr>\n",
       "      <th>16/17</th>\n",
       "      <td>62.0</td>\n",
       "      <td>534.0</td>\n",
       "      <td>201.0</td>\n",
       "      <td>603.0</td>\n",
       "      <td>229.0</td>\n",
       "      <td>85.0</td>\n",
       "      <td>3.0</td>\n",
       "    </tr>\n",
       "    <tr>\n",
       "      <th>17/18</th>\n",
       "      <td>57.0</td>\n",
       "      <td>573.0</td>\n",
       "      <td>197.0</td>\n",
       "      <td>491.0</td>\n",
       "      <td>229.0</td>\n",
       "      <td>67.0</td>\n",
       "      <td>4.0</td>\n",
       "    </tr>\n",
       "    <tr>\n",
       "      <th>18/19</th>\n",
       "      <td>77.0</td>\n",
       "      <td>475.0</td>\n",
       "      <td>254.0</td>\n",
       "      <td>429.0</td>\n",
       "      <td>242.0</td>\n",
       "      <td>61.0</td>\n",
       "      <td>3.0</td>\n",
       "    </tr>\n",
       "  </tbody>\n",
       "</table>\n",
       "</div>"
      ],
      "text/plain": [
       "        Goal  Shots  ShotsTarget  Corner  Fouls  YellowCard  RedCard\n",
       "Season                                                              \n",
       "11/12   41.0  413.0        142.0   592.0  189.0        96.0      4.0\n",
       "12/13   39.0  409.0        129.0   585.0  180.0       105.0     13.0\n",
       "13/14   43.0  447.0        154.0   525.0  190.0        81.0      6.0\n",
       "14/15   38.0  463.0        132.0   629.0  193.0       103.0      9.0\n",
       "15/16   41.0  454.0        137.0   636.0  190.0        95.0     14.0\n",
       "16/17   62.0  534.0        201.0   603.0  229.0        85.0      3.0\n",
       "17/18   57.0  573.0        197.0   491.0  229.0        67.0      4.0\n",
       "18/19   77.0  475.0        254.0   429.0  242.0        61.0      3.0"
      ]
     },
     "execution_count": 59,
     "metadata": {},
     "output_type": "execute_result"
    }
   ],
   "source": [
    "norm_cols = ['Goal', 'Shots', 'ShotsTarget', 'Corner', 'Fouls', 'YellowCard', 'RedCard']\n",
    "home_stats = homedf.groupby(homedf.index).sum()[home_cols]\n",
    "home_stats.columns = norm_cols\n",
    "\n",
    "away_stats = awaydf.groupby(homedf.index).sum()[away_cols] #.agg(['sum', 'median'])\n",
    "away_stats.columns = norm_cols\n",
    "\n",
    "#df.groupby(['col1','col2']).agg({'col3':'sum','col4':'sum'}).reset_index()\n",
    "print('home_stats\\n',home_stats)\n",
    "print('away_stats\\n',away_stats)\n",
    "tot_stats = home_stats + away_stats \n",
    "tot_stats\n"
   ]
  },
  {
   "cell_type": "markdown",
   "metadata": {},
   "source": [
    "## Visualization"
   ]
  },
  {
   "cell_type": "code",
   "execution_count": 65,
   "metadata": {},
   "outputs": [
    {
     "ename": "ValueError",
     "evalue": "Invalid property specified for object of type plotly.graph_objs.Layout: 'stacked'\n\n    Valid properties:\n        angularaxis\n            plotly.graph_objects.layout.AngularAxis instance or\n            dict with compatible properties\n        annotations\n            A tuple of plotly.graph_objects.layout.Annotation\n            instances or dicts with compatible properties\n        annotationdefaults\n            When used in a template (as\n            layout.template.layout.annotationdefaults), sets the\n            default property values to use for elements of\n            layout.annotations\n        autosize\n            Determines whether or not a layout width or height that\n            has been left undefined by the user is initialized on\n            each relayout. Note that, regardless of this attribute,\n            an undefined layout width or height is always\n            initialized on the first call to plot.\n        bargap\n            Sets the gap (in plot fraction) between bars of\n            adjacent location coordinates.\n        bargroupgap\n            Sets the gap (in plot fraction) between bars of the\n            same location coordinate.\n        barmode\n            Determines how bars at the same location coordinate are\n            displayed on the graph. With \"stack\", the bars are\n            stacked on top of one another With \"relative\", the bars\n            are stacked on top of one another, with negative values\n            below the axis, positive values above With \"group\", the\n            bars are plotted next to one another centered around\n            the shared location. With \"overlay\", the bars are\n            plotted over one another, you might need to an\n            \"opacity\" to see multiple bars.\n        barnorm\n            Sets the normalization for bar traces on the graph.\n            With \"fraction\", the value of each bar is divided by\n            the sum of all values at that location coordinate.\n            \"percent\" is the same but multiplied by 100 to show\n            percentages.\n        boxgap\n            Sets the gap (in plot fraction) between boxes of\n            adjacent location coordinates. Has no effect on traces\n            that have \"width\" set.\n        boxgroupgap\n            Sets the gap (in plot fraction) between boxes of the\n            same location coordinate. Has no effect on traces that\n            have \"width\" set.\n        boxmode\n            Determines how boxes at the same location coordinate\n            are displayed on the graph. If \"group\", the boxes are\n            plotted next to one another centered around the shared\n            location. If \"overlay\", the boxes are plotted over one\n            another, you might need to set \"opacity\" to see them\n            multiple boxes. Has no effect on traces that have\n            \"width\" set.\n        calendar\n            Sets the default calendar system to use for\n            interpreting and displaying dates throughout the plot.\n        clickmode\n            Determines the mode of single click interactions.\n            \"event\" is the default value and emits the\n            `plotly_click` event. In addition this mode emits the\n            `plotly_selected` event in drag modes \"lasso\" and\n            \"select\", but with no event data attached (kept for\n            compatibility reasons). The \"select\" flag enables\n            selecting single data points via click. This mode also\n            supports persistent selections, meaning that pressing\n            Shift while clicking, adds to / subtracts from an\n            existing selection. \"select\" with `hovermode`: \"x\" can\n            be confusing, consider explicitly setting `hovermode`:\n            \"closest\" when using this feature. Selection events are\n            sent accordingly as long as \"event\" flag is set as\n            well. When the \"event\" flag is missing, `plotly_click`\n            and `plotly_selected` events are not fired.\n        coloraxis\n            plotly.graph_objects.layout.Coloraxis instance or dict\n            with compatible properties\n        colorscale\n            plotly.graph_objects.layout.Colorscale instance or dict\n            with compatible properties\n        colorway\n            Sets the default trace colors.\n        datarevision\n            If provided, a changed value tells `Plotly.react` that\n            one or more data arrays has changed. This way you can\n            modify arrays in-place rather than making a complete\n            new copy for an incremental change. If NOT provided,\n            `Plotly.react` assumes that data arrays are being\n            treated as immutable, thus any data array with a\n            different identity from its predecessor contains new\n            data.\n        direction\n            Legacy polar charts are deprecated! Please switch to\n            \"polar\" subplots. Sets the direction corresponding to\n            positive angles in legacy polar charts.\n        dragmode\n            Determines the mode of drag interactions. \"select\" and\n            \"lasso\" apply only to scatter traces with markers or\n            text. \"orbit\" and \"turntable\" apply only to 3D scenes.\n        editrevision\n            Controls persistence of user-driven changes in\n            `editable: true` configuration, other than trace names\n            and axis titles. Defaults to `layout.uirevision`.\n        extendfunnelareacolors\n            If `true`, the funnelarea slice colors (whether given\n            by `funnelareacolorway` or inherited from `colorway`)\n            will be extended to three times its original length by\n            first repeating every color 20% lighter then each color\n            20% darker. This is intended to reduce the likelihood\n            of reusing the same color when you have many slices,\n            but you can set `false` to disable. Colors provided in\n            the trace, using `marker.colors`, are never extended.\n        extendpiecolors\n            If `true`, the pie slice colors (whether given by\n            `piecolorway` or inherited from `colorway`) will be\n            extended to three times its original length by first\n            repeating every color 20% lighter then each color 20%\n            darker. This is intended to reduce the likelihood of\n            reusing the same color when you have many slices, but\n            you can set `false` to disable. Colors provided in the\n            trace, using `marker.colors`, are never extended.\n        extendsunburstcolors\n            If `true`, the sunburst slice colors (whether given by\n            `sunburstcolorway` or inherited from `colorway`) will\n            be extended to three times its original length by first\n            repeating every color 20% lighter then each color 20%\n            darker. This is intended to reduce the likelihood of\n            reusing the same color when you have many slices, but\n            you can set `false` to disable. Colors provided in the\n            trace, using `marker.colors`, are never extended.\n        extendtreemapcolors\n            If `true`, the treemap slice colors (whether given by\n            `treemapcolorway` or inherited from `colorway`) will be\n            extended to three times its original length by first\n            repeating every color 20% lighter then each color 20%\n            darker. This is intended to reduce the likelihood of\n            reusing the same color when you have many slices, but\n            you can set `false` to disable. Colors provided in the\n            trace, using `marker.colors`, are never extended.\n        font\n            Sets the global font. Note that fonts used in traces\n            and other layout components inherit from the global\n            font.\n        funnelareacolorway\n            Sets the default funnelarea slice colors. Defaults to\n            the main `colorway` used for trace colors. If you\n            specify a new list here it can still be extended with\n            lighter and darker colors, see\n            `extendfunnelareacolors`.\n        funnelgap\n            Sets the gap (in plot fraction) between bars of\n            adjacent location coordinates.\n        funnelgroupgap\n            Sets the gap (in plot fraction) between bars of the\n            same location coordinate.\n        funnelmode\n            Determines how bars at the same location coordinate are\n            displayed on the graph. With \"stack\", the bars are\n            stacked on top of one another With \"group\", the bars\n            are plotted next to one another centered around the\n            shared location. With \"overlay\", the bars are plotted\n            over one another, you might need to an \"opacity\" to see\n            multiple bars.\n        geo\n            plotly.graph_objects.layout.Geo instance or dict with\n            compatible properties\n        grid\n            plotly.graph_objects.layout.Grid instance or dict with\n            compatible properties\n        height\n            Sets the plot's height (in px).\n        hiddenlabels\n            hiddenlabels is the funnelarea & pie chart analog of\n            visible:'legendonly' but it can contain many labels,\n            and can simultaneously hide slices from several\n            pies/funnelarea charts\n        hiddenlabelssrc\n            Sets the source reference on plot.ly for  hiddenlabels\n            .\n        hidesources\n            Determines whether or not a text link citing the data\n            source is placed at the bottom-right cored of the\n            figure. Has only an effect only on graphs that have\n            been generated via forked graphs from the plotly\n            service (at https://plot.ly or on-premise).\n        hoverdistance\n            Sets the default distance (in pixels) to look for data\n            to add hover labels (-1 means no cutoff, 0 means no\n            looking for data). This is only a real distance for\n            hovering on point-like objects, like scatter points.\n            For area-like objects (bars, scatter fills, etc)\n            hovering is on inside the area and off outside, but\n            these objects will not supersede hover on point-like\n            objects in case of conflict.\n        hoverlabel\n            plotly.graph_objects.layout.Hoverlabel instance or dict\n            with compatible properties\n        hovermode\n            Determines the mode of hover interactions. If\n            `clickmode` includes the \"select\" flag, `hovermode`\n            defaults to \"closest\". If `clickmode` lacks the\n            \"select\" flag, it defaults to \"x\" or \"y\" (depending on\n            the trace's `orientation` value) for plots based on\n            cartesian coordinates. For anything else the default\n            value is \"closest\".\n        images\n            A tuple of plotly.graph_objects.layout.Image instances\n            or dicts with compatible properties\n        imagedefaults\n            When used in a template (as\n            layout.template.layout.imagedefaults), sets the default\n            property values to use for elements of layout.images\n        legend\n            plotly.graph_objects.layout.Legend instance or dict\n            with compatible properties\n        mapbox\n            plotly.graph_objects.layout.Mapbox instance or dict\n            with compatible properties\n        margin\n            plotly.graph_objects.layout.Margin instance or dict\n            with compatible properties\n        meta\n            Assigns extra meta information that can be used in\n            various `text` attributes. Attributes such as the\n            graph, axis and colorbar `title.text`, annotation\n            `text` `trace.name` in legend items, `rangeselector`,\n            `updatemenus` and `sliders` `label` text all support\n            `meta`. One can access `meta` fields using template\n            strings: `%{meta[i]}` where `i` is the index of the\n            `meta` item in question. `meta` can also be an object\n            for example `{key: value}` which can be accessed\n            %{meta[key]}.\n        metasrc\n            Sets the source reference on plot.ly for  meta .\n        modebar\n            plotly.graph_objects.layout.Modebar instance or dict\n            with compatible properties\n        orientation\n            Legacy polar charts are deprecated! Please switch to\n            \"polar\" subplots. Rotates the entire polar by the given\n            angle in legacy polar charts.\n        paper_bgcolor\n            Sets the color of paper where the graph is drawn.\n        piecolorway\n            Sets the default pie slice colors. Defaults to the main\n            `colorway` used for trace colors. If you specify a new\n            list here it can still be extended with lighter and\n            darker colors, see `extendpiecolors`.\n        plot_bgcolor\n            Sets the color of plotting area in-between x and y\n            axes.\n        polar\n            plotly.graph_objects.layout.Polar instance or dict with\n            compatible properties\n        radialaxis\n            plotly.graph_objects.layout.RadialAxis instance or dict\n            with compatible properties\n        scene\n            plotly.graph_objects.layout.Scene instance or dict with\n            compatible properties\n        selectdirection\n            When \"dragmode\" is set to \"select\", this limits the\n            selection of the drag to horizontal, vertical or\n            diagonal. \"h\" only allows horizontal selection, \"v\"\n            only vertical, \"d\" only diagonal and \"any\" sets no\n            limit.\n        selectionrevision\n            Controls persistence of user-driven changes in selected\n            points from all traces.\n        separators\n            Sets the decimal and thousand separators. For example,\n            *. * puts a '.' before decimals and a space between\n            thousands. In English locales, dflt is \".,\" but other\n            locales may alter this default.\n        shapes\n            A tuple of plotly.graph_objects.layout.Shape instances\n            or dicts with compatible properties\n        shapedefaults\n            When used in a template (as\n            layout.template.layout.shapedefaults), sets the default\n            property values to use for elements of layout.shapes\n        showlegend\n            Determines whether or not a legend is drawn. Default is\n            `true` if there is a trace to show and any of these: a)\n            Two or more traces would by default be shown in the\n            legend. b) One pie trace is shown in the legend. c) One\n            trace is explicitly given with `showlegend: true`.\n        sliders\n            A tuple of plotly.graph_objects.layout.Slider instances\n            or dicts with compatible properties\n        sliderdefaults\n            When used in a template (as\n            layout.template.layout.sliderdefaults), sets the\n            default property values to use for elements of\n            layout.sliders\n        spikedistance\n            Sets the default distance (in pixels) to look for data\n            to draw spikelines to (-1 means no cutoff, 0 means no\n            looking for data). As with hoverdistance, distance does\n            not apply to area-like objects. In addition, some\n            objects can be hovered on but will not generate\n            spikelines, such as scatter fills.\n        sunburstcolorway\n            Sets the default sunburst slice colors. Defaults to the\n            main `colorway` used for trace colors. If you specify a\n            new list here it can still be extended with lighter and\n            darker colors, see `extendsunburstcolors`.\n        template\n            Default attributes to be applied to the plot. This\n            should be a dict with format: `{'layout':\n            layoutTemplate, 'data': {trace_type: [traceTemplate,\n            ...], ...}}` where `layoutTemplate` is a dict matching\n            the structure of `figure.layout` and `traceTemplate` is\n            a dict matching the structure of the trace with type\n            `trace_type` (e.g. 'scatter'). Alternatively, this may\n            be specified as an instance of\n            plotly.graph_objs.layout.Template.  Trace templates are\n            applied cyclically to traces of each type. Container\n            arrays (eg `annotations`) have special handling: An\n            object ending in `defaults` (eg `annotationdefaults`)\n            is applied to each array item. But if an item has a\n            `templateitemname` key we look in the template array\n            for an item with matching `name` and apply that\n            instead. If no matching `name` is found we mark the\n            item invisible. Any named template item not referenced\n            is appended to the end of the array, so this can be\n            used to add a watermark annotation or a logo image, for\n            example. To omit one of these items on the plot, make\n            an item with matching `templateitemname` and `visible:\n            false`.\n        ternary\n            plotly.graph_objects.layout.Ternary instance or dict\n            with compatible properties\n        title\n            plotly.graph_objects.layout.Title instance or dict with\n            compatible properties\n        titlefont\n            Deprecated: Please use layout.title.font instead. Sets\n            the title font. Note that the title's font used to be\n            customized by the now deprecated `titlefont` attribute.\n        transition\n            Sets transition options used during Plotly.react\n            updates.\n        treemapcolorway\n            Sets the default treemap slice colors. Defaults to the\n            main `colorway` used for trace colors. If you specify a\n            new list here it can still be extended with lighter and\n            darker colors, see `extendtreemapcolors`.\n        uirevision\n            Used to allow user interactions with the plot to\n            persist after `Plotly.react` calls that are unaware of\n            these interactions. If `uirevision` is omitted, or if\n            it is given and it changed from the previous\n            `Plotly.react` call, the exact new figure is used. If\n            `uirevision` is truthy and did NOT change, any\n            attribute that has been affected by user interactions\n            and did not receive a different value in the new figure\n            will keep the interaction value. `layout.uirevision`\n            attribute serves as the default for `uirevision`\n            attributes in various sub-containers. For finer control\n            you can set these sub-attributes directly. For example,\n            if your app separately controls the data on the x and y\n            axes you might set `xaxis.uirevision=*time*` and\n            `yaxis.uirevision=*cost*`. Then if only the y data is\n            changed, you can update `yaxis.uirevision=*quantity*`\n            and the y axis range will reset but the x axis range\n            will retain any user-driven zoom.\n        uniformtext\n            plotly.graph_objects.layout.Uniformtext instance or\n            dict with compatible properties\n        updatemenus\n            A tuple of plotly.graph_objects.layout.Updatemenu\n            instances or dicts with compatible properties\n        updatemenudefaults\n            When used in a template (as\n            layout.template.layout.updatemenudefaults), sets the\n            default property values to use for elements of\n            layout.updatemenus\n        violingap\n            Sets the gap (in plot fraction) between violins of\n            adjacent location coordinates. Has no effect on traces\n            that have \"width\" set.\n        violingroupgap\n            Sets the gap (in plot fraction) between violins of the\n            same location coordinate. Has no effect on traces that\n            have \"width\" set.\n        violinmode\n            Determines how violins at the same location coordinate\n            are displayed on the graph. If \"group\", the violins are\n            plotted next to one another centered around the shared\n            location. If \"overlay\", the violins are plotted over\n            one another, you might need to set \"opacity\" to see\n            them multiple violins. Has no effect on traces that\n            have \"width\" set.\n        waterfallgap\n            Sets the gap (in plot fraction) between bars of\n            adjacent location coordinates.\n        waterfallgroupgap\n            Sets the gap (in plot fraction) between bars of the\n            same location coordinate.\n        waterfallmode\n            Determines how bars at the same location coordinate are\n            displayed on the graph. With \"group\", the bars are\n            plotted next to one another centered around the shared\n            location. With \"overlay\", the bars are plotted over one\n            another, you might need to an \"opacity\" to see multiple\n            bars.\n        width\n            Sets the plot's width (in px).\n        xaxis\n            plotly.graph_objects.layout.XAxis instance or dict with\n            compatible properties\n        yaxis\n            plotly.graph_objects.layout.YAxis instance or dict with\n            compatible properties\n        ",
     "output_type": "error",
     "traceback": [
      "\u001b[1;31m---------------------------------------------------------------------------\u001b[0m",
      "\u001b[1;31mValueError\u001b[0m                                Traceback (most recent call last)",
      "\u001b[1;32m<ipython-input-65-9b6fe31dced9>\u001b[0m in \u001b[0;36m<module>\u001b[1;34m\u001b[0m\n\u001b[0;32m      7\u001b[0m                    \u001b[0mxaxis\u001b[0m\u001b[1;33m=\u001b[0m\u001b[0mdict\u001b[0m\u001b[1;33m(\u001b[0m\u001b[0mtitle\u001b[0m\u001b[1;33m=\u001b[0m\u001b[1;34m\"Seasons\"\u001b[0m\u001b[1;33m)\u001b[0m\u001b[1;33m,\u001b[0m\u001b[1;33m\u001b[0m\u001b[1;33m\u001b[0m\u001b[0m\n\u001b[0;32m      8\u001b[0m                    \u001b[0myaxis\u001b[0m\u001b[1;33m=\u001b[0m\u001b[1;33m{\u001b[0m\u001b[1;34m'title'\u001b[0m\u001b[1;33m:\u001b[0m\u001b[1;34m'goals'\u001b[0m\u001b[1;33m}\u001b[0m\u001b[1;33m,\u001b[0m\u001b[1;33m\u001b[0m\u001b[1;33m\u001b[0m\u001b[0m\n\u001b[1;32m----> 9\u001b[1;33m                   stacked=True)\n\u001b[0m\u001b[0;32m     10\u001b[0m \u001b[0mfig\u001b[0m \u001b[1;33m=\u001b[0m \u001b[0mgo\u001b[0m\u001b[1;33m.\u001b[0m\u001b[0mFigure\u001b[0m\u001b[1;33m(\u001b[0m\u001b[0mdata\u001b[0m\u001b[1;33m=\u001b[0m\u001b[0mtraces\u001b[0m\u001b[1;33m,\u001b[0m \u001b[0mlayout\u001b[0m\u001b[1;33m=\u001b[0m\u001b[0mlayout\u001b[0m\u001b[1;33m)\u001b[0m\u001b[1;33m\u001b[0m\u001b[1;33m\u001b[0m\u001b[0m\n\u001b[0;32m     11\u001b[0m \u001b[0mfig\u001b[0m\u001b[1;33m.\u001b[0m\u001b[0mshow\u001b[0m\u001b[1;33m(\u001b[0m\u001b[1;33m)\u001b[0m\u001b[1;33m\u001b[0m\u001b[1;33m\u001b[0m\u001b[0m\n",
      "\u001b[1;32m~\\Anaconda3\\envs\\datascience\\lib\\site-packages\\plotly\\graph_objs\\__init__.py\u001b[0m in \u001b[0;36m__init__\u001b[1;34m(self, arg, angularaxis, annotations, annotationdefaults, autosize, bargap, bargroupgap, barmode, barnorm, boxgap, boxgroupgap, boxmode, calendar, clickmode, coloraxis, colorscale, colorway, datarevision, direction, dragmode, editrevision, extendfunnelareacolors, extendpiecolors, extendsunburstcolors, extendtreemapcolors, font, funnelareacolorway, funnelgap, funnelgroupgap, funnelmode, geo, grid, height, hiddenlabels, hiddenlabelssrc, hidesources, hoverdistance, hoverlabel, hovermode, images, imagedefaults, legend, mapbox, margin, meta, metasrc, modebar, orientation, paper_bgcolor, piecolorway, plot_bgcolor, polar, radialaxis, scene, selectdirection, selectionrevision, separators, shapes, shapedefaults, showlegend, sliders, sliderdefaults, spikedistance, sunburstcolorway, template, ternary, title, titlefont, transition, treemapcolorway, uirevision, uniformtext, updatemenus, updatemenudefaults, violingap, violingroupgap, violinmode, waterfallgap, waterfallgroupgap, waterfallmode, width, xaxis, yaxis, **kwargs)\u001b[0m\n\u001b[0;32m  99684\u001b[0m         \u001b[1;31m# Process unknown kwargs\u001b[0m\u001b[1;33m\u001b[0m\u001b[1;33m\u001b[0m\u001b[1;33m\u001b[0m\u001b[0m\n\u001b[0;32m  99685\u001b[0m         \u001b[1;31m# ----------------------\u001b[0m\u001b[1;33m\u001b[0m\u001b[1;33m\u001b[0m\u001b[1;33m\u001b[0m\u001b[0m\n\u001b[1;32m> 99686\u001b[1;33m         \u001b[0mself\u001b[0m\u001b[1;33m.\u001b[0m\u001b[0m_process_kwargs\u001b[0m\u001b[1;33m(\u001b[0m\u001b[1;33m**\u001b[0m\u001b[0mdict\u001b[0m\u001b[1;33m(\u001b[0m\u001b[0marg\u001b[0m\u001b[1;33m,\u001b[0m \u001b[1;33m**\u001b[0m\u001b[0mkwargs\u001b[0m\u001b[1;33m)\u001b[0m\u001b[1;33m)\u001b[0m\u001b[1;33m\u001b[0m\u001b[1;33m\u001b[0m\u001b[0m\n\u001b[0m\u001b[0;32m  99687\u001b[0m \u001b[1;33m\u001b[0m\u001b[0m\n\u001b[0;32m  99688\u001b[0m         \u001b[1;31m# Reset skip_invalid\u001b[0m\u001b[1;33m\u001b[0m\u001b[1;33m\u001b[0m\u001b[1;33m\u001b[0m\u001b[0m\n",
      "\u001b[1;32m~\\Anaconda3\\envs\\datascience\\lib\\site-packages\\plotly\\basedatatypes.py\u001b[0m in \u001b[0;36m_process_kwargs\u001b[1;34m(self, **kwargs)\u001b[0m\n\u001b[0;32m   4290\u001b[0m             \u001b[0mk\u001b[0m\u001b[1;33m:\u001b[0m \u001b[0mv\u001b[0m \u001b[1;32mfor\u001b[0m \u001b[0mk\u001b[0m\u001b[1;33m,\u001b[0m \u001b[0mv\u001b[0m \u001b[1;32min\u001b[0m \u001b[0mkwargs\u001b[0m\u001b[1;33m.\u001b[0m\u001b[0mitems\u001b[0m\u001b[1;33m(\u001b[0m\u001b[1;33m)\u001b[0m \u001b[1;32mif\u001b[0m \u001b[1;32mnot\u001b[0m \u001b[0mself\u001b[0m\u001b[1;33m.\u001b[0m\u001b[0m_subplot_re_match\u001b[0m\u001b[1;33m(\u001b[0m\u001b[0mk\u001b[0m\u001b[1;33m)\u001b[0m\u001b[1;33m\u001b[0m\u001b[1;33m\u001b[0m\u001b[0m\n\u001b[0;32m   4291\u001b[0m         }\n\u001b[1;32m-> 4292\u001b[1;33m         \u001b[0msuper\u001b[0m\u001b[1;33m(\u001b[0m\u001b[0mBaseLayoutHierarchyType\u001b[0m\u001b[1;33m,\u001b[0m \u001b[0mself\u001b[0m\u001b[1;33m)\u001b[0m\u001b[1;33m.\u001b[0m\u001b[0m_process_kwargs\u001b[0m\u001b[1;33m(\u001b[0m\u001b[1;33m**\u001b[0m\u001b[0munknown_kwargs\u001b[0m\u001b[1;33m)\u001b[0m\u001b[1;33m\u001b[0m\u001b[1;33m\u001b[0m\u001b[0m\n\u001b[0m\u001b[0;32m   4293\u001b[0m \u001b[1;33m\u001b[0m\u001b[0m\n\u001b[0;32m   4294\u001b[0m         \u001b[0msubplot_kwargs\u001b[0m \u001b[1;33m=\u001b[0m \u001b[1;33m{\u001b[0m\u001b[0mk\u001b[0m\u001b[1;33m:\u001b[0m \u001b[0mv\u001b[0m \u001b[1;32mfor\u001b[0m \u001b[0mk\u001b[0m\u001b[1;33m,\u001b[0m \u001b[0mv\u001b[0m \u001b[1;32min\u001b[0m \u001b[0mkwargs\u001b[0m\u001b[1;33m.\u001b[0m\u001b[0mitems\u001b[0m\u001b[1;33m(\u001b[0m\u001b[1;33m)\u001b[0m \u001b[1;32mif\u001b[0m \u001b[0mself\u001b[0m\u001b[1;33m.\u001b[0m\u001b[0m_subplot_re_match\u001b[0m\u001b[1;33m(\u001b[0m\u001b[0mk\u001b[0m\u001b[1;33m)\u001b[0m\u001b[1;33m}\u001b[0m\u001b[1;33m\u001b[0m\u001b[1;33m\u001b[0m\u001b[0m\n",
      "\u001b[1;32m~\\Anaconda3\\envs\\datascience\\lib\\site-packages\\plotly\\basedatatypes.py\u001b[0m in \u001b[0;36m_process_kwargs\u001b[1;34m(self, **kwargs)\u001b[0m\n\u001b[0;32m   3033\u001b[0m \u001b[1;33m\u001b[0m\u001b[0m\n\u001b[0;32m   3034\u001b[0m         \u001b[1;32mif\u001b[0m \u001b[0minvalid_kwargs\u001b[0m \u001b[1;32mand\u001b[0m \u001b[1;32mnot\u001b[0m \u001b[0mself\u001b[0m\u001b[1;33m.\u001b[0m\u001b[0m_skip_invalid\u001b[0m\u001b[1;33m:\u001b[0m\u001b[1;33m\u001b[0m\u001b[1;33m\u001b[0m\u001b[0m\n\u001b[1;32m-> 3035\u001b[1;33m             \u001b[0mself\u001b[0m\u001b[1;33m.\u001b[0m\u001b[0m_raise_on_invalid_property_error\u001b[0m\u001b[1;33m(\u001b[0m\u001b[1;33m*\u001b[0m\u001b[0minvalid_kwargs\u001b[0m\u001b[1;33m.\u001b[0m\u001b[0mkeys\u001b[0m\u001b[1;33m(\u001b[0m\u001b[1;33m)\u001b[0m\u001b[1;33m)\u001b[0m\u001b[1;33m\u001b[0m\u001b[1;33m\u001b[0m\u001b[0m\n\u001b[0m\u001b[0;32m   3036\u001b[0m \u001b[1;33m\u001b[0m\u001b[0m\n\u001b[0;32m   3037\u001b[0m     \u001b[1;33m@\u001b[0m\u001b[0mproperty\u001b[0m\u001b[1;33m\u001b[0m\u001b[1;33m\u001b[0m\u001b[0m\n",
      "\u001b[1;32m~\\Anaconda3\\envs\\datascience\\lib\\site-packages\\plotly\\basedatatypes.py\u001b[0m in \u001b[0;36m_raise_on_invalid_property_error\u001b[1;34m(self, *args)\u001b[0m\n\u001b[0;32m   3664\u001b[0m                     \u001b[0mfull_obj_name\u001b[0m\u001b[1;33m=\u001b[0m\u001b[0mfull_obj_name\u001b[0m\u001b[1;33m,\u001b[0m\u001b[1;33m\u001b[0m\u001b[1;33m\u001b[0m\u001b[0m\n\u001b[0;32m   3665\u001b[0m                     \u001b[0minvalid_str\u001b[0m\u001b[1;33m=\u001b[0m\u001b[0minvalid_str\u001b[0m\u001b[1;33m,\u001b[0m\u001b[1;33m\u001b[0m\u001b[1;33m\u001b[0m\u001b[0m\n\u001b[1;32m-> 3666\u001b[1;33m                     \u001b[0mprop_descriptions\u001b[0m\u001b[1;33m=\u001b[0m\u001b[0mself\u001b[0m\u001b[1;33m.\u001b[0m\u001b[0m_prop_descriptions\u001b[0m\u001b[1;33m,\u001b[0m\u001b[1;33m\u001b[0m\u001b[1;33m\u001b[0m\u001b[0m\n\u001b[0m\u001b[0;32m   3667\u001b[0m                 )\n\u001b[0;32m   3668\u001b[0m             )\n",
      "\u001b[1;31mValueError\u001b[0m: Invalid property specified for object of type plotly.graph_objs.Layout: 'stacked'\n\n    Valid properties:\n        angularaxis\n            plotly.graph_objects.layout.AngularAxis instance or\n            dict with compatible properties\n        annotations\n            A tuple of plotly.graph_objects.layout.Annotation\n            instances or dicts with compatible properties\n        annotationdefaults\n            When used in a template (as\n            layout.template.layout.annotationdefaults), sets the\n            default property values to use for elements of\n            layout.annotations\n        autosize\n            Determines whether or not a layout width or height that\n            has been left undefined by the user is initialized on\n            each relayout. Note that, regardless of this attribute,\n            an undefined layout width or height is always\n            initialized on the first call to plot.\n        bargap\n            Sets the gap (in plot fraction) between bars of\n            adjacent location coordinates.\n        bargroupgap\n            Sets the gap (in plot fraction) between bars of the\n            same location coordinate.\n        barmode\n            Determines how bars at the same location coordinate are\n            displayed on the graph. With \"stack\", the bars are\n            stacked on top of one another With \"relative\", the bars\n            are stacked on top of one another, with negative values\n            below the axis, positive values above With \"group\", the\n            bars are plotted next to one another centered around\n            the shared location. With \"overlay\", the bars are\n            plotted over one another, you might need to an\n            \"opacity\" to see multiple bars.\n        barnorm\n            Sets the normalization for bar traces on the graph.\n            With \"fraction\", the value of each bar is divided by\n            the sum of all values at that location coordinate.\n            \"percent\" is the same but multiplied by 100 to show\n            percentages.\n        boxgap\n            Sets the gap (in plot fraction) between boxes of\n            adjacent location coordinates. Has no effect on traces\n            that have \"width\" set.\n        boxgroupgap\n            Sets the gap (in plot fraction) between boxes of the\n            same location coordinate. Has no effect on traces that\n            have \"width\" set.\n        boxmode\n            Determines how boxes at the same location coordinate\n            are displayed on the graph. If \"group\", the boxes are\n            plotted next to one another centered around the shared\n            location. If \"overlay\", the boxes are plotted over one\n            another, you might need to set \"opacity\" to see them\n            multiple boxes. Has no effect on traces that have\n            \"width\" set.\n        calendar\n            Sets the default calendar system to use for\n            interpreting and displaying dates throughout the plot.\n        clickmode\n            Determines the mode of single click interactions.\n            \"event\" is the default value and emits the\n            `plotly_click` event. In addition this mode emits the\n            `plotly_selected` event in drag modes \"lasso\" and\n            \"select\", but with no event data attached (kept for\n            compatibility reasons). The \"select\" flag enables\n            selecting single data points via click. This mode also\n            supports persistent selections, meaning that pressing\n            Shift while clicking, adds to / subtracts from an\n            existing selection. \"select\" with `hovermode`: \"x\" can\n            be confusing, consider explicitly setting `hovermode`:\n            \"closest\" when using this feature. Selection events are\n            sent accordingly as long as \"event\" flag is set as\n            well. When the \"event\" flag is missing, `plotly_click`\n            and `plotly_selected` events are not fired.\n        coloraxis\n            plotly.graph_objects.layout.Coloraxis instance or dict\n            with compatible properties\n        colorscale\n            plotly.graph_objects.layout.Colorscale instance or dict\n            with compatible properties\n        colorway\n            Sets the default trace colors.\n        datarevision\n            If provided, a changed value tells `Plotly.react` that\n            one or more data arrays has changed. This way you can\n            modify arrays in-place rather than making a complete\n            new copy for an incremental change. If NOT provided,\n            `Plotly.react` assumes that data arrays are being\n            treated as immutable, thus any data array with a\n            different identity from its predecessor contains new\n            data.\n        direction\n            Legacy polar charts are deprecated! Please switch to\n            \"polar\" subplots. Sets the direction corresponding to\n            positive angles in legacy polar charts.\n        dragmode\n            Determines the mode of drag interactions. \"select\" and\n            \"lasso\" apply only to scatter traces with markers or\n            text. \"orbit\" and \"turntable\" apply only to 3D scenes.\n        editrevision\n            Controls persistence of user-driven changes in\n            `editable: true` configuration, other than trace names\n            and axis titles. Defaults to `layout.uirevision`.\n        extendfunnelareacolors\n            If `true`, the funnelarea slice colors (whether given\n            by `funnelareacolorway` or inherited from `colorway`)\n            will be extended to three times its original length by\n            first repeating every color 20% lighter then each color\n            20% darker. This is intended to reduce the likelihood\n            of reusing the same color when you have many slices,\n            but you can set `false` to disable. Colors provided in\n            the trace, using `marker.colors`, are never extended.\n        extendpiecolors\n            If `true`, the pie slice colors (whether given by\n            `piecolorway` or inherited from `colorway`) will be\n            extended to three times its original length by first\n            repeating every color 20% lighter then each color 20%\n            darker. This is intended to reduce the likelihood of\n            reusing the same color when you have many slices, but\n            you can set `false` to disable. Colors provided in the\n            trace, using `marker.colors`, are never extended.\n        extendsunburstcolors\n            If `true`, the sunburst slice colors (whether given by\n            `sunburstcolorway` or inherited from `colorway`) will\n            be extended to three times its original length by first\n            repeating every color 20% lighter then each color 20%\n            darker. This is intended to reduce the likelihood of\n            reusing the same color when you have many slices, but\n            you can set `false` to disable. Colors provided in the\n            trace, using `marker.colors`, are never extended.\n        extendtreemapcolors\n            If `true`, the treemap slice colors (whether given by\n            `treemapcolorway` or inherited from `colorway`) will be\n            extended to three times its original length by first\n            repeating every color 20% lighter then each color 20%\n            darker. This is intended to reduce the likelihood of\n            reusing the same color when you have many slices, but\n            you can set `false` to disable. Colors provided in the\n            trace, using `marker.colors`, are never extended.\n        font\n            Sets the global font. Note that fonts used in traces\n            and other layout components inherit from the global\n            font.\n        funnelareacolorway\n            Sets the default funnelarea slice colors. Defaults to\n            the main `colorway` used for trace colors. If you\n            specify a new list here it can still be extended with\n            lighter and darker colors, see\n            `extendfunnelareacolors`.\n        funnelgap\n            Sets the gap (in plot fraction) between bars of\n            adjacent location coordinates.\n        funnelgroupgap\n            Sets the gap (in plot fraction) between bars of the\n            same location coordinate.\n        funnelmode\n            Determines how bars at the same location coordinate are\n            displayed on the graph. With \"stack\", the bars are\n            stacked on top of one another With \"group\", the bars\n            are plotted next to one another centered around the\n            shared location. With \"overlay\", the bars are plotted\n            over one another, you might need to an \"opacity\" to see\n            multiple bars.\n        geo\n            plotly.graph_objects.layout.Geo instance or dict with\n            compatible properties\n        grid\n            plotly.graph_objects.layout.Grid instance or dict with\n            compatible properties\n        height\n            Sets the plot's height (in px).\n        hiddenlabels\n            hiddenlabels is the funnelarea & pie chart analog of\n            visible:'legendonly' but it can contain many labels,\n            and can simultaneously hide slices from several\n            pies/funnelarea charts\n        hiddenlabelssrc\n            Sets the source reference on plot.ly for  hiddenlabels\n            .\n        hidesources\n            Determines whether or not a text link citing the data\n            source is placed at the bottom-right cored of the\n            figure. Has only an effect only on graphs that have\n            been generated via forked graphs from the plotly\n            service (at https://plot.ly or on-premise).\n        hoverdistance\n            Sets the default distance (in pixels) to look for data\n            to add hover labels (-1 means no cutoff, 0 means no\n            looking for data). This is only a real distance for\n            hovering on point-like objects, like scatter points.\n            For area-like objects (bars, scatter fills, etc)\n            hovering is on inside the area and off outside, but\n            these objects will not supersede hover on point-like\n            objects in case of conflict.\n        hoverlabel\n            plotly.graph_objects.layout.Hoverlabel instance or dict\n            with compatible properties\n        hovermode\n            Determines the mode of hover interactions. If\n            `clickmode` includes the \"select\" flag, `hovermode`\n            defaults to \"closest\". If `clickmode` lacks the\n            \"select\" flag, it defaults to \"x\" or \"y\" (depending on\n            the trace's `orientation` value) for plots based on\n            cartesian coordinates. For anything else the default\n            value is \"closest\".\n        images\n            A tuple of plotly.graph_objects.layout.Image instances\n            or dicts with compatible properties\n        imagedefaults\n            When used in a template (as\n            layout.template.layout.imagedefaults), sets the default\n            property values to use for elements of layout.images\n        legend\n            plotly.graph_objects.layout.Legend instance or dict\n            with compatible properties\n        mapbox\n            plotly.graph_objects.layout.Mapbox instance or dict\n            with compatible properties\n        margin\n            plotly.graph_objects.layout.Margin instance or dict\n            with compatible properties\n        meta\n            Assigns extra meta information that can be used in\n            various `text` attributes. Attributes such as the\n            graph, axis and colorbar `title.text`, annotation\n            `text` `trace.name` in legend items, `rangeselector`,\n            `updatemenus` and `sliders` `label` text all support\n            `meta`. One can access `meta` fields using template\n            strings: `%{meta[i]}` where `i` is the index of the\n            `meta` item in question. `meta` can also be an object\n            for example `{key: value}` which can be accessed\n            %{meta[key]}.\n        metasrc\n            Sets the source reference on plot.ly for  meta .\n        modebar\n            plotly.graph_objects.layout.Modebar instance or dict\n            with compatible properties\n        orientation\n            Legacy polar charts are deprecated! Please switch to\n            \"polar\" subplots. Rotates the entire polar by the given\n            angle in legacy polar charts.\n        paper_bgcolor\n            Sets the color of paper where the graph is drawn.\n        piecolorway\n            Sets the default pie slice colors. Defaults to the main\n            `colorway` used for trace colors. If you specify a new\n            list here it can still be extended with lighter and\n            darker colors, see `extendpiecolors`.\n        plot_bgcolor\n            Sets the color of plotting area in-between x and y\n            axes.\n        polar\n            plotly.graph_objects.layout.Polar instance or dict with\n            compatible properties\n        radialaxis\n            plotly.graph_objects.layout.RadialAxis instance or dict\n            with compatible properties\n        scene\n            plotly.graph_objects.layout.Scene instance or dict with\n            compatible properties\n        selectdirection\n            When \"dragmode\" is set to \"select\", this limits the\n            selection of the drag to horizontal, vertical or\n            diagonal. \"h\" only allows horizontal selection, \"v\"\n            only vertical, \"d\" only diagonal and \"any\" sets no\n            limit.\n        selectionrevision\n            Controls persistence of user-driven changes in selected\n            points from all traces.\n        separators\n            Sets the decimal and thousand separators. For example,\n            *. * puts a '.' before decimals and a space between\n            thousands. In English locales, dflt is \".,\" but other\n            locales may alter this default.\n        shapes\n            A tuple of plotly.graph_objects.layout.Shape instances\n            or dicts with compatible properties\n        shapedefaults\n            When used in a template (as\n            layout.template.layout.shapedefaults), sets the default\n            property values to use for elements of layout.shapes\n        showlegend\n            Determines whether or not a legend is drawn. Default is\n            `true` if there is a trace to show and any of these: a)\n            Two or more traces would by default be shown in the\n            legend. b) One pie trace is shown in the legend. c) One\n            trace is explicitly given with `showlegend: true`.\n        sliders\n            A tuple of plotly.graph_objects.layout.Slider instances\n            or dicts with compatible properties\n        sliderdefaults\n            When used in a template (as\n            layout.template.layout.sliderdefaults), sets the\n            default property values to use for elements of\n            layout.sliders\n        spikedistance\n            Sets the default distance (in pixels) to look for data\n            to draw spikelines to (-1 means no cutoff, 0 means no\n            looking for data). As with hoverdistance, distance does\n            not apply to area-like objects. In addition, some\n            objects can be hovered on but will not generate\n            spikelines, such as scatter fills.\n        sunburstcolorway\n            Sets the default sunburst slice colors. Defaults to the\n            main `colorway` used for trace colors. If you specify a\n            new list here it can still be extended with lighter and\n            darker colors, see `extendsunburstcolors`.\n        template\n            Default attributes to be applied to the plot. This\n            should be a dict with format: `{'layout':\n            layoutTemplate, 'data': {trace_type: [traceTemplate,\n            ...], ...}}` where `layoutTemplate` is a dict matching\n            the structure of `figure.layout` and `traceTemplate` is\n            a dict matching the structure of the trace with type\n            `trace_type` (e.g. 'scatter'). Alternatively, this may\n            be specified as an instance of\n            plotly.graph_objs.layout.Template.  Trace templates are\n            applied cyclically to traces of each type. Container\n            arrays (eg `annotations`) have special handling: An\n            object ending in `defaults` (eg `annotationdefaults`)\n            is applied to each array item. But if an item has a\n            `templateitemname` key we look in the template array\n            for an item with matching `name` and apply that\n            instead. If no matching `name` is found we mark the\n            item invisible. Any named template item not referenced\n            is appended to the end of the array, so this can be\n            used to add a watermark annotation or a logo image, for\n            example. To omit one of these items on the plot, make\n            an item with matching `templateitemname` and `visible:\n            false`.\n        ternary\n            plotly.graph_objects.layout.Ternary instance or dict\n            with compatible properties\n        title\n            plotly.graph_objects.layout.Title instance or dict with\n            compatible properties\n        titlefont\n            Deprecated: Please use layout.title.font instead. Sets\n            the title font. Note that the title's font used to be\n            customized by the now deprecated `titlefont` attribute.\n        transition\n            Sets transition options used during Plotly.react\n            updates.\n        treemapcolorway\n            Sets the default treemap slice colors. Defaults to the\n            main `colorway` used for trace colors. If you specify a\n            new list here it can still be extended with lighter and\n            darker colors, see `extendtreemapcolors`.\n        uirevision\n            Used to allow user interactions with the plot to\n            persist after `Plotly.react` calls that are unaware of\n            these interactions. If `uirevision` is omitted, or if\n            it is given and it changed from the previous\n            `Plotly.react` call, the exact new figure is used. If\n            `uirevision` is truthy and did NOT change, any\n            attribute that has been affected by user interactions\n            and did not receive a different value in the new figure\n            will keep the interaction value. `layout.uirevision`\n            attribute serves as the default for `uirevision`\n            attributes in various sub-containers. For finer control\n            you can set these sub-attributes directly. For example,\n            if your app separately controls the data on the x and y\n            axes you might set `xaxis.uirevision=*time*` and\n            `yaxis.uirevision=*cost*`. Then if only the y data is\n            changed, you can update `yaxis.uirevision=*quantity*`\n            and the y axis range will reset but the x axis range\n            will retain any user-driven zoom.\n        uniformtext\n            plotly.graph_objects.layout.Uniformtext instance or\n            dict with compatible properties\n        updatemenus\n            A tuple of plotly.graph_objects.layout.Updatemenu\n            instances or dicts with compatible properties\n        updatemenudefaults\n            When used in a template (as\n            layout.template.layout.updatemenudefaults), sets the\n            default property values to use for elements of\n            layout.updatemenus\n        violingap\n            Sets the gap (in plot fraction) between violins of\n            adjacent location coordinates. Has no effect on traces\n            that have \"width\" set.\n        violingroupgap\n            Sets the gap (in plot fraction) between violins of the\n            same location coordinate. Has no effect on traces that\n            have \"width\" set.\n        violinmode\n            Determines how violins at the same location coordinate\n            are displayed on the graph. If \"group\", the violins are\n            plotted next to one another centered around the shared\n            location. If \"overlay\", the violins are plotted over\n            one another, you might need to set \"opacity\" to see\n            them multiple violins. Has no effect on traces that\n            have \"width\" set.\n        waterfallgap\n            Sets the gap (in plot fraction) between bars of\n            adjacent location coordinates.\n        waterfallgroupgap\n            Sets the gap (in plot fraction) between bars of the\n            same location coordinate.\n        waterfallmode\n            Determines how bars at the same location coordinate are\n            displayed on the graph. With \"group\", the bars are\n            plotted next to one another centered around the shared\n            location. With \"overlay\", the bars are plotted over one\n            another, you might need to an \"opacity\" to see multiple\n            bars.\n        width\n            Sets the plot's width (in px).\n        xaxis\n            plotly.graph_objects.layout.XAxis instance or dict with\n            compatible properties\n        yaxis\n            plotly.graph_objects.layout.YAxis instance or dict with\n            compatible properties\n        "
     ]
    }
   ],
   "source": [
    "#home_stat\n",
    "traces = [\n",
    "    go.Bar(x=home_stats.index, y=home_stat[\"sum\"], name=\"home goals\", marker_color=\"red\"),\n",
    "    go.Bar(x=home_stats.index, y=away_stat[\"sum\"], name=\"away goals\", marker_color=\"blue\")\n",
    "]\n",
    "layout = go.Layout(title=f\"home goals for {team}\",\n",
    "                   xaxis=dict(title=\"Seasons\"),\n",
    "                   yaxis={'title':'goals'},\n",
    "                  stacked=True)\n",
    "fig = go.Figure(data=traces, layout=layout)\n",
    "fig.show()"
   ]
  },
  {
   "cell_type": "code",
   "execution_count": 3,
   "metadata": {},
   "outputs": [
    {
     "data": {
      "application/vnd.plotly.v1+json": {
       "config": {
        "plotlyServerURL": "https://plot.ly"
       },
       "data": [
        {
         "line": {
          "color": "red",
          "width": 2
         },
         "name": "median home",
         "type": "scatter",
         "x": [
          2011,
          2012,
          2013,
          2014,
          2015,
          2016,
          2017,
          2018,
          2019
         ],
         "y": [
          1,
          1,
          1,
          1,
          1,
          1.5,
          1,
          1,
          2
         ]
        },
        {
         "line": {
          "color": "blue",
          "width": 2
         },
         "name": "median away",
         "type": "scatter",
         "x": [
          2011,
          2012,
          2013,
          2014,
          2015,
          2016,
          2017,
          2018,
          2019
         ],
         "y": [
          2,
          0.5,
          1,
          0,
          1,
          1,
          1,
          1.5,
          2
         ]
        }
       ],
       "layout": {
        "template": {
         "data": {
          "bar": [
           {
            "error_x": {
             "color": "#2a3f5f"
            },
            "error_y": {
             "color": "#2a3f5f"
            },
            "marker": {
             "line": {
              "color": "#E5ECF6",
              "width": 0.5
             }
            },
            "type": "bar"
           }
          ],
          "barpolar": [
           {
            "marker": {
             "line": {
              "color": "#E5ECF6",
              "width": 0.5
             }
            },
            "type": "barpolar"
           }
          ],
          "carpet": [
           {
            "aaxis": {
             "endlinecolor": "#2a3f5f",
             "gridcolor": "white",
             "linecolor": "white",
             "minorgridcolor": "white",
             "startlinecolor": "#2a3f5f"
            },
            "baxis": {
             "endlinecolor": "#2a3f5f",
             "gridcolor": "white",
             "linecolor": "white",
             "minorgridcolor": "white",
             "startlinecolor": "#2a3f5f"
            },
            "type": "carpet"
           }
          ],
          "choropleth": [
           {
            "colorbar": {
             "outlinewidth": 0,
             "ticks": ""
            },
            "type": "choropleth"
           }
          ],
          "contour": [
           {
            "colorbar": {
             "outlinewidth": 0,
             "ticks": ""
            },
            "colorscale": [
             [
              0,
              "#0d0887"
             ],
             [
              0.1111111111111111,
              "#46039f"
             ],
             [
              0.2222222222222222,
              "#7201a8"
             ],
             [
              0.3333333333333333,
              "#9c179e"
             ],
             [
              0.4444444444444444,
              "#bd3786"
             ],
             [
              0.5555555555555556,
              "#d8576b"
             ],
             [
              0.6666666666666666,
              "#ed7953"
             ],
             [
              0.7777777777777778,
              "#fb9f3a"
             ],
             [
              0.8888888888888888,
              "#fdca26"
             ],
             [
              1,
              "#f0f921"
             ]
            ],
            "type": "contour"
           }
          ],
          "contourcarpet": [
           {
            "colorbar": {
             "outlinewidth": 0,
             "ticks": ""
            },
            "type": "contourcarpet"
           }
          ],
          "heatmap": [
           {
            "colorbar": {
             "outlinewidth": 0,
             "ticks": ""
            },
            "colorscale": [
             [
              0,
              "#0d0887"
             ],
             [
              0.1111111111111111,
              "#46039f"
             ],
             [
              0.2222222222222222,
              "#7201a8"
             ],
             [
              0.3333333333333333,
              "#9c179e"
             ],
             [
              0.4444444444444444,
              "#bd3786"
             ],
             [
              0.5555555555555556,
              "#d8576b"
             ],
             [
              0.6666666666666666,
              "#ed7953"
             ],
             [
              0.7777777777777778,
              "#fb9f3a"
             ],
             [
              0.8888888888888888,
              "#fdca26"
             ],
             [
              1,
              "#f0f921"
             ]
            ],
            "type": "heatmap"
           }
          ],
          "heatmapgl": [
           {
            "colorbar": {
             "outlinewidth": 0,
             "ticks": ""
            },
            "colorscale": [
             [
              0,
              "#0d0887"
             ],
             [
              0.1111111111111111,
              "#46039f"
             ],
             [
              0.2222222222222222,
              "#7201a8"
             ],
             [
              0.3333333333333333,
              "#9c179e"
             ],
             [
              0.4444444444444444,
              "#bd3786"
             ],
             [
              0.5555555555555556,
              "#d8576b"
             ],
             [
              0.6666666666666666,
              "#ed7953"
             ],
             [
              0.7777777777777778,
              "#fb9f3a"
             ],
             [
              0.8888888888888888,
              "#fdca26"
             ],
             [
              1,
              "#f0f921"
             ]
            ],
            "type": "heatmapgl"
           }
          ],
          "histogram": [
           {
            "marker": {
             "colorbar": {
              "outlinewidth": 0,
              "ticks": ""
             }
            },
            "type": "histogram"
           }
          ],
          "histogram2d": [
           {
            "colorbar": {
             "outlinewidth": 0,
             "ticks": ""
            },
            "colorscale": [
             [
              0,
              "#0d0887"
             ],
             [
              0.1111111111111111,
              "#46039f"
             ],
             [
              0.2222222222222222,
              "#7201a8"
             ],
             [
              0.3333333333333333,
              "#9c179e"
             ],
             [
              0.4444444444444444,
              "#bd3786"
             ],
             [
              0.5555555555555556,
              "#d8576b"
             ],
             [
              0.6666666666666666,
              "#ed7953"
             ],
             [
              0.7777777777777778,
              "#fb9f3a"
             ],
             [
              0.8888888888888888,
              "#fdca26"
             ],
             [
              1,
              "#f0f921"
             ]
            ],
            "type": "histogram2d"
           }
          ],
          "histogram2dcontour": [
           {
            "colorbar": {
             "outlinewidth": 0,
             "ticks": ""
            },
            "colorscale": [
             [
              0,
              "#0d0887"
             ],
             [
              0.1111111111111111,
              "#46039f"
             ],
             [
              0.2222222222222222,
              "#7201a8"
             ],
             [
              0.3333333333333333,
              "#9c179e"
             ],
             [
              0.4444444444444444,
              "#bd3786"
             ],
             [
              0.5555555555555556,
              "#d8576b"
             ],
             [
              0.6666666666666666,
              "#ed7953"
             ],
             [
              0.7777777777777778,
              "#fb9f3a"
             ],
             [
              0.8888888888888888,
              "#fdca26"
             ],
             [
              1,
              "#f0f921"
             ]
            ],
            "type": "histogram2dcontour"
           }
          ],
          "mesh3d": [
           {
            "colorbar": {
             "outlinewidth": 0,
             "ticks": ""
            },
            "type": "mesh3d"
           }
          ],
          "parcoords": [
           {
            "line": {
             "colorbar": {
              "outlinewidth": 0,
              "ticks": ""
             }
            },
            "type": "parcoords"
           }
          ],
          "pie": [
           {
            "automargin": true,
            "type": "pie"
           }
          ],
          "scatter": [
           {
            "marker": {
             "colorbar": {
              "outlinewidth": 0,
              "ticks": ""
             }
            },
            "type": "scatter"
           }
          ],
          "scatter3d": [
           {
            "line": {
             "colorbar": {
              "outlinewidth": 0,
              "ticks": ""
             }
            },
            "marker": {
             "colorbar": {
              "outlinewidth": 0,
              "ticks": ""
             }
            },
            "type": "scatter3d"
           }
          ],
          "scattercarpet": [
           {
            "marker": {
             "colorbar": {
              "outlinewidth": 0,
              "ticks": ""
             }
            },
            "type": "scattercarpet"
           }
          ],
          "scattergeo": [
           {
            "marker": {
             "colorbar": {
              "outlinewidth": 0,
              "ticks": ""
             }
            },
            "type": "scattergeo"
           }
          ],
          "scattergl": [
           {
            "marker": {
             "colorbar": {
              "outlinewidth": 0,
              "ticks": ""
             }
            },
            "type": "scattergl"
           }
          ],
          "scattermapbox": [
           {
            "marker": {
             "colorbar": {
              "outlinewidth": 0,
              "ticks": ""
             }
            },
            "type": "scattermapbox"
           }
          ],
          "scatterpolar": [
           {
            "marker": {
             "colorbar": {
              "outlinewidth": 0,
              "ticks": ""
             }
            },
            "type": "scatterpolar"
           }
          ],
          "scatterpolargl": [
           {
            "marker": {
             "colorbar": {
              "outlinewidth": 0,
              "ticks": ""
             }
            },
            "type": "scatterpolargl"
           }
          ],
          "scatterternary": [
           {
            "marker": {
             "colorbar": {
              "outlinewidth": 0,
              "ticks": ""
             }
            },
            "type": "scatterternary"
           }
          ],
          "surface": [
           {
            "colorbar": {
             "outlinewidth": 0,
             "ticks": ""
            },
            "colorscale": [
             [
              0,
              "#0d0887"
             ],
             [
              0.1111111111111111,
              "#46039f"
             ],
             [
              0.2222222222222222,
              "#7201a8"
             ],
             [
              0.3333333333333333,
              "#9c179e"
             ],
             [
              0.4444444444444444,
              "#bd3786"
             ],
             [
              0.5555555555555556,
              "#d8576b"
             ],
             [
              0.6666666666666666,
              "#ed7953"
             ],
             [
              0.7777777777777778,
              "#fb9f3a"
             ],
             [
              0.8888888888888888,
              "#fdca26"
             ],
             [
              1,
              "#f0f921"
             ]
            ],
            "type": "surface"
           }
          ],
          "table": [
           {
            "cells": {
             "fill": {
              "color": "#EBF0F8"
             },
             "line": {
              "color": "white"
             }
            },
            "header": {
             "fill": {
              "color": "#C8D4E3"
             },
             "line": {
              "color": "white"
             }
            },
            "type": "table"
           }
          ]
         },
         "layout": {
          "annotationdefaults": {
           "arrowcolor": "#2a3f5f",
           "arrowhead": 0,
           "arrowwidth": 1
          },
          "coloraxis": {
           "colorbar": {
            "outlinewidth": 0,
            "ticks": ""
           }
          },
          "colorscale": {
           "diverging": [
            [
             0,
             "#8e0152"
            ],
            [
             0.1,
             "#c51b7d"
            ],
            [
             0.2,
             "#de77ae"
            ],
            [
             0.3,
             "#f1b6da"
            ],
            [
             0.4,
             "#fde0ef"
            ],
            [
             0.5,
             "#f7f7f7"
            ],
            [
             0.6,
             "#e6f5d0"
            ],
            [
             0.7,
             "#b8e186"
            ],
            [
             0.8,
             "#7fbc41"
            ],
            [
             0.9,
             "#4d9221"
            ],
            [
             1,
             "#276419"
            ]
           ],
           "sequential": [
            [
             0,
             "#0d0887"
            ],
            [
             0.1111111111111111,
             "#46039f"
            ],
            [
             0.2222222222222222,
             "#7201a8"
            ],
            [
             0.3333333333333333,
             "#9c179e"
            ],
            [
             0.4444444444444444,
             "#bd3786"
            ],
            [
             0.5555555555555556,
             "#d8576b"
            ],
            [
             0.6666666666666666,
             "#ed7953"
            ],
            [
             0.7777777777777778,
             "#fb9f3a"
            ],
            [
             0.8888888888888888,
             "#fdca26"
            ],
            [
             1,
             "#f0f921"
            ]
           ],
           "sequentialminus": [
            [
             0,
             "#0d0887"
            ],
            [
             0.1111111111111111,
             "#46039f"
            ],
            [
             0.2222222222222222,
             "#7201a8"
            ],
            [
             0.3333333333333333,
             "#9c179e"
            ],
            [
             0.4444444444444444,
             "#bd3786"
            ],
            [
             0.5555555555555556,
             "#d8576b"
            ],
            [
             0.6666666666666666,
             "#ed7953"
            ],
            [
             0.7777777777777778,
             "#fb9f3a"
            ],
            [
             0.8888888888888888,
             "#fdca26"
            ],
            [
             1,
             "#f0f921"
            ]
           ]
          },
          "colorway": [
           "#636efa",
           "#EF553B",
           "#00cc96",
           "#ab63fa",
           "#FFA15A",
           "#19d3f3",
           "#FF6692",
           "#B6E880",
           "#FF97FF",
           "#FECB52"
          ],
          "font": {
           "color": "#2a3f5f"
          },
          "geo": {
           "bgcolor": "white",
           "lakecolor": "white",
           "landcolor": "#E5ECF6",
           "showlakes": true,
           "showland": true,
           "subunitcolor": "white"
          },
          "hoverlabel": {
           "align": "left"
          },
          "hovermode": "closest",
          "mapbox": {
           "style": "light"
          },
          "paper_bgcolor": "white",
          "plot_bgcolor": "#E5ECF6",
          "polar": {
           "angularaxis": {
            "gridcolor": "white",
            "linecolor": "white",
            "ticks": ""
           },
           "bgcolor": "#E5ECF6",
           "radialaxis": {
            "gridcolor": "white",
            "linecolor": "white",
            "ticks": ""
           }
          },
          "scene": {
           "xaxis": {
            "backgroundcolor": "#E5ECF6",
            "gridcolor": "white",
            "gridwidth": 2,
            "linecolor": "white",
            "showbackground": true,
            "ticks": "",
            "zerolinecolor": "white"
           },
           "yaxis": {
            "backgroundcolor": "#E5ECF6",
            "gridcolor": "white",
            "gridwidth": 2,
            "linecolor": "white",
            "showbackground": true,
            "ticks": "",
            "zerolinecolor": "white"
           },
           "zaxis": {
            "backgroundcolor": "#E5ECF6",
            "gridcolor": "white",
            "gridwidth": 2,
            "linecolor": "white",
            "showbackground": true,
            "ticks": "",
            "zerolinecolor": "white"
           }
          },
          "shapedefaults": {
           "line": {
            "color": "#2a3f5f"
           }
          },
          "ternary": {
           "aaxis": {
            "gridcolor": "white",
            "linecolor": "white",
            "ticks": ""
           },
           "baxis": {
            "gridcolor": "white",
            "linecolor": "white",
            "ticks": ""
           },
           "bgcolor": "#E5ECF6",
           "caxis": {
            "gridcolor": "white",
            "linecolor": "white",
            "ticks": ""
           }
          },
          "title": {
           "x": 0.05
          },
          "xaxis": {
           "automargin": true,
           "gridcolor": "white",
           "linecolor": "white",
           "ticks": "",
           "title": {
            "standoff": 15
           },
           "zerolinecolor": "white",
           "zerolinewidth": 2
          },
          "yaxis": {
           "automargin": true,
           "gridcolor": "white",
           "linecolor": "white",
           "ticks": "",
           "title": {
            "standoff": 15
           },
           "zerolinecolor": "white",
           "zerolinewidth": 2
          }
         }
        },
        "title": {
         "text": "away goals for Atalanta"
        },
        "xaxis": {
         "title": {
          "text": "year"
         }
        },
        "yaxis": {
         "title": {
          "text": "goals"
         }
        }
       }
      },
      "text/html": [
       "<div>\n",
       "        \n",
       "        \n",
       "            <div id=\"5e54cd78-33ae-4f4b-8cc7-ad7ae4819da8\" class=\"plotly-graph-div\" style=\"height:525px; width:100%;\"></div>\n",
       "            <script type=\"text/javascript\">\n",
       "                require([\"plotly\"], function(Plotly) {\n",
       "                    window.PLOTLYENV=window.PLOTLYENV || {};\n",
       "                    \n",
       "                if (document.getElementById(\"5e54cd78-33ae-4f4b-8cc7-ad7ae4819da8\")) {\n",
       "                    Plotly.newPlot(\n",
       "                        '5e54cd78-33ae-4f4b-8cc7-ad7ae4819da8',\n",
       "                        [{\"line\": {\"color\": \"red\", \"width\": 2}, \"name\": \"median home\", \"type\": \"scatter\", \"x\": [2011, 2012, 2013, 2014, 2015, 2016, 2017, 2018, 2019], \"y\": [1.0, 1.0, 1.0, 1.0, 1.0, 1.5, 1.0, 1.0, 2.0]}, {\"line\": {\"color\": \"blue\", \"width\": 2}, \"name\": \"median away\", \"type\": \"scatter\", \"x\": [2011, 2012, 2013, 2014, 2015, 2016, 2017, 2018, 2019], \"y\": [2.0, 0.5, 1.0, 0.0, 1.0, 1.0, 1.0, 1.5, 2.0]}],\n",
       "                        {\"template\": {\"data\": {\"bar\": [{\"error_x\": {\"color\": \"#2a3f5f\"}, \"error_y\": {\"color\": \"#2a3f5f\"}, \"marker\": {\"line\": {\"color\": \"#E5ECF6\", \"width\": 0.5}}, \"type\": \"bar\"}], \"barpolar\": [{\"marker\": {\"line\": {\"color\": \"#E5ECF6\", \"width\": 0.5}}, \"type\": \"barpolar\"}], \"carpet\": [{\"aaxis\": {\"endlinecolor\": \"#2a3f5f\", \"gridcolor\": \"white\", \"linecolor\": \"white\", \"minorgridcolor\": \"white\", \"startlinecolor\": \"#2a3f5f\"}, \"baxis\": {\"endlinecolor\": \"#2a3f5f\", \"gridcolor\": \"white\", \"linecolor\": \"white\", \"minorgridcolor\": \"white\", \"startlinecolor\": \"#2a3f5f\"}, \"type\": \"carpet\"}], \"choropleth\": [{\"colorbar\": {\"outlinewidth\": 0, \"ticks\": \"\"}, \"type\": \"choropleth\"}], \"contour\": [{\"colorbar\": {\"outlinewidth\": 0, \"ticks\": \"\"}, \"colorscale\": [[0.0, \"#0d0887\"], [0.1111111111111111, \"#46039f\"], [0.2222222222222222, \"#7201a8\"], [0.3333333333333333, \"#9c179e\"], [0.4444444444444444, \"#bd3786\"], [0.5555555555555556, \"#d8576b\"], [0.6666666666666666, \"#ed7953\"], [0.7777777777777778, \"#fb9f3a\"], [0.8888888888888888, \"#fdca26\"], [1.0, \"#f0f921\"]], \"type\": \"contour\"}], \"contourcarpet\": [{\"colorbar\": {\"outlinewidth\": 0, \"ticks\": \"\"}, \"type\": \"contourcarpet\"}], \"heatmap\": [{\"colorbar\": {\"outlinewidth\": 0, \"ticks\": \"\"}, \"colorscale\": [[0.0, \"#0d0887\"], [0.1111111111111111, \"#46039f\"], [0.2222222222222222, \"#7201a8\"], [0.3333333333333333, \"#9c179e\"], [0.4444444444444444, \"#bd3786\"], [0.5555555555555556, \"#d8576b\"], [0.6666666666666666, \"#ed7953\"], [0.7777777777777778, \"#fb9f3a\"], [0.8888888888888888, \"#fdca26\"], [1.0, \"#f0f921\"]], \"type\": \"heatmap\"}], \"heatmapgl\": [{\"colorbar\": {\"outlinewidth\": 0, \"ticks\": \"\"}, \"colorscale\": [[0.0, \"#0d0887\"], [0.1111111111111111, \"#46039f\"], [0.2222222222222222, \"#7201a8\"], [0.3333333333333333, \"#9c179e\"], [0.4444444444444444, \"#bd3786\"], [0.5555555555555556, \"#d8576b\"], [0.6666666666666666, \"#ed7953\"], [0.7777777777777778, \"#fb9f3a\"], [0.8888888888888888, \"#fdca26\"], [1.0, \"#f0f921\"]], \"type\": \"heatmapgl\"}], \"histogram\": [{\"marker\": {\"colorbar\": {\"outlinewidth\": 0, \"ticks\": \"\"}}, \"type\": \"histogram\"}], \"histogram2d\": [{\"colorbar\": {\"outlinewidth\": 0, \"ticks\": \"\"}, \"colorscale\": [[0.0, \"#0d0887\"], [0.1111111111111111, \"#46039f\"], [0.2222222222222222, \"#7201a8\"], [0.3333333333333333, \"#9c179e\"], [0.4444444444444444, \"#bd3786\"], [0.5555555555555556, \"#d8576b\"], [0.6666666666666666, \"#ed7953\"], [0.7777777777777778, \"#fb9f3a\"], [0.8888888888888888, \"#fdca26\"], [1.0, \"#f0f921\"]], \"type\": \"histogram2d\"}], \"histogram2dcontour\": [{\"colorbar\": {\"outlinewidth\": 0, \"ticks\": \"\"}, \"colorscale\": [[0.0, \"#0d0887\"], [0.1111111111111111, \"#46039f\"], [0.2222222222222222, \"#7201a8\"], [0.3333333333333333, \"#9c179e\"], [0.4444444444444444, \"#bd3786\"], [0.5555555555555556, \"#d8576b\"], [0.6666666666666666, \"#ed7953\"], [0.7777777777777778, \"#fb9f3a\"], [0.8888888888888888, \"#fdca26\"], [1.0, \"#f0f921\"]], \"type\": \"histogram2dcontour\"}], \"mesh3d\": [{\"colorbar\": {\"outlinewidth\": 0, \"ticks\": \"\"}, \"type\": \"mesh3d\"}], \"parcoords\": [{\"line\": {\"colorbar\": {\"outlinewidth\": 0, \"ticks\": \"\"}}, \"type\": \"parcoords\"}], \"pie\": [{\"automargin\": true, \"type\": \"pie\"}], \"scatter\": [{\"marker\": {\"colorbar\": {\"outlinewidth\": 0, \"ticks\": \"\"}}, \"type\": \"scatter\"}], \"scatter3d\": [{\"line\": {\"colorbar\": {\"outlinewidth\": 0, \"ticks\": \"\"}}, \"marker\": {\"colorbar\": {\"outlinewidth\": 0, \"ticks\": \"\"}}, \"type\": \"scatter3d\"}], \"scattercarpet\": [{\"marker\": {\"colorbar\": {\"outlinewidth\": 0, \"ticks\": \"\"}}, \"type\": \"scattercarpet\"}], \"scattergeo\": [{\"marker\": {\"colorbar\": {\"outlinewidth\": 0, \"ticks\": \"\"}}, \"type\": \"scattergeo\"}], \"scattergl\": [{\"marker\": {\"colorbar\": {\"outlinewidth\": 0, \"ticks\": \"\"}}, \"type\": \"scattergl\"}], \"scattermapbox\": [{\"marker\": {\"colorbar\": {\"outlinewidth\": 0, \"ticks\": \"\"}}, \"type\": \"scattermapbox\"}], \"scatterpolar\": [{\"marker\": {\"colorbar\": {\"outlinewidth\": 0, \"ticks\": \"\"}}, \"type\": \"scatterpolar\"}], \"scatterpolargl\": [{\"marker\": {\"colorbar\": {\"outlinewidth\": 0, \"ticks\": \"\"}}, \"type\": \"scatterpolargl\"}], \"scatterternary\": [{\"marker\": {\"colorbar\": {\"outlinewidth\": 0, \"ticks\": \"\"}}, \"type\": \"scatterternary\"}], \"surface\": [{\"colorbar\": {\"outlinewidth\": 0, \"ticks\": \"\"}, \"colorscale\": [[0.0, \"#0d0887\"], [0.1111111111111111, \"#46039f\"], [0.2222222222222222, \"#7201a8\"], [0.3333333333333333, \"#9c179e\"], [0.4444444444444444, \"#bd3786\"], [0.5555555555555556, \"#d8576b\"], [0.6666666666666666, \"#ed7953\"], [0.7777777777777778, \"#fb9f3a\"], [0.8888888888888888, \"#fdca26\"], [1.0, \"#f0f921\"]], \"type\": \"surface\"}], \"table\": [{\"cells\": {\"fill\": {\"color\": \"#EBF0F8\"}, \"line\": {\"color\": \"white\"}}, \"header\": {\"fill\": {\"color\": \"#C8D4E3\"}, \"line\": {\"color\": \"white\"}}, \"type\": \"table\"}]}, \"layout\": {\"annotationdefaults\": {\"arrowcolor\": \"#2a3f5f\", \"arrowhead\": 0, \"arrowwidth\": 1}, \"coloraxis\": {\"colorbar\": {\"outlinewidth\": 0, \"ticks\": \"\"}}, \"colorscale\": {\"diverging\": [[0, \"#8e0152\"], [0.1, \"#c51b7d\"], [0.2, \"#de77ae\"], [0.3, \"#f1b6da\"], [0.4, \"#fde0ef\"], [0.5, \"#f7f7f7\"], [0.6, \"#e6f5d0\"], [0.7, \"#b8e186\"], [0.8, \"#7fbc41\"], [0.9, \"#4d9221\"], [1, \"#276419\"]], \"sequential\": [[0.0, \"#0d0887\"], [0.1111111111111111, \"#46039f\"], [0.2222222222222222, \"#7201a8\"], [0.3333333333333333, \"#9c179e\"], [0.4444444444444444, \"#bd3786\"], [0.5555555555555556, \"#d8576b\"], [0.6666666666666666, \"#ed7953\"], [0.7777777777777778, \"#fb9f3a\"], [0.8888888888888888, \"#fdca26\"], [1.0, \"#f0f921\"]], \"sequentialminus\": [[0.0, \"#0d0887\"], [0.1111111111111111, \"#46039f\"], [0.2222222222222222, \"#7201a8\"], [0.3333333333333333, \"#9c179e\"], [0.4444444444444444, \"#bd3786\"], [0.5555555555555556, \"#d8576b\"], [0.6666666666666666, \"#ed7953\"], [0.7777777777777778, \"#fb9f3a\"], [0.8888888888888888, \"#fdca26\"], [1.0, \"#f0f921\"]]}, \"colorway\": [\"#636efa\", \"#EF553B\", \"#00cc96\", \"#ab63fa\", \"#FFA15A\", \"#19d3f3\", \"#FF6692\", \"#B6E880\", \"#FF97FF\", \"#FECB52\"], \"font\": {\"color\": \"#2a3f5f\"}, \"geo\": {\"bgcolor\": \"white\", \"lakecolor\": \"white\", \"landcolor\": \"#E5ECF6\", \"showlakes\": true, \"showland\": true, \"subunitcolor\": \"white\"}, \"hoverlabel\": {\"align\": \"left\"}, \"hovermode\": \"closest\", \"mapbox\": {\"style\": \"light\"}, \"paper_bgcolor\": \"white\", \"plot_bgcolor\": \"#E5ECF6\", \"polar\": {\"angularaxis\": {\"gridcolor\": \"white\", \"linecolor\": \"white\", \"ticks\": \"\"}, \"bgcolor\": \"#E5ECF6\", \"radialaxis\": {\"gridcolor\": \"white\", \"linecolor\": \"white\", \"ticks\": \"\"}}, \"scene\": {\"xaxis\": {\"backgroundcolor\": \"#E5ECF6\", \"gridcolor\": \"white\", \"gridwidth\": 2, \"linecolor\": \"white\", \"showbackground\": true, \"ticks\": \"\", \"zerolinecolor\": \"white\"}, \"yaxis\": {\"backgroundcolor\": \"#E5ECF6\", \"gridcolor\": \"white\", \"gridwidth\": 2, \"linecolor\": \"white\", \"showbackground\": true, \"ticks\": \"\", \"zerolinecolor\": \"white\"}, \"zaxis\": {\"backgroundcolor\": \"#E5ECF6\", \"gridcolor\": \"white\", \"gridwidth\": 2, \"linecolor\": \"white\", \"showbackground\": true, \"ticks\": \"\", \"zerolinecolor\": \"white\"}}, \"shapedefaults\": {\"line\": {\"color\": \"#2a3f5f\"}}, \"ternary\": {\"aaxis\": {\"gridcolor\": \"white\", \"linecolor\": \"white\", \"ticks\": \"\"}, \"baxis\": {\"gridcolor\": \"white\", \"linecolor\": \"white\", \"ticks\": \"\"}, \"bgcolor\": \"#E5ECF6\", \"caxis\": {\"gridcolor\": \"white\", \"linecolor\": \"white\", \"ticks\": \"\"}}, \"title\": {\"x\": 0.05}, \"xaxis\": {\"automargin\": true, \"gridcolor\": \"white\", \"linecolor\": \"white\", \"ticks\": \"\", \"title\": {\"standoff\": 15}, \"zerolinecolor\": \"white\", \"zerolinewidth\": 2}, \"yaxis\": {\"automargin\": true, \"gridcolor\": \"white\", \"linecolor\": \"white\", \"ticks\": \"\", \"title\": {\"standoff\": 15}, \"zerolinecolor\": \"white\", \"zerolinewidth\": 2}}}, \"title\": {\"text\": \"away goals for Atalanta\"}, \"xaxis\": {\"title\": {\"text\": \"year\"}}, \"yaxis\": {\"title\": {\"text\": \"goals\"}}},\n",
       "                        {\"responsive\": true}\n",
       "                    ).then(function(){\n",
       "                            \n",
       "var gd = document.getElementById('5e54cd78-33ae-4f4b-8cc7-ad7ae4819da8');\n",
       "var x = new MutationObserver(function (mutations, observer) {{\n",
       "        var display = window.getComputedStyle(gd).display;\n",
       "        if (!display || display === 'none') {{\n",
       "            console.log([gd, 'removed!']);\n",
       "            Plotly.purge(gd);\n",
       "            observer.disconnect();\n",
       "        }}\n",
       "}});\n",
       "\n",
       "// Listen for the removal of the full notebook cells\n",
       "var notebookContainer = gd.closest('#notebook-container');\n",
       "if (notebookContainer) {{\n",
       "    x.observe(notebookContainer, {childList: true});\n",
       "}}\n",
       "\n",
       "// Listen for the clearing of the current output cell\n",
       "var outputEl = gd.closest('.output');\n",
       "if (outputEl) {{\n",
       "    x.observe(outputEl, {childList: true});\n",
       "}}\n",
       "\n",
       "                        })\n",
       "                };\n",
       "                });\n",
       "            </script>\n",
       "        </div>"
      ]
     },
     "metadata": {},
     "output_type": "display_data"
    }
   ],
   "source": [
    "#away_stat\n",
    "traces = [\n",
    "    go.Scatter(x=years, y=home_stat[\"median\"], name=\"median home\", line=dict(color='red', width=2)),\n",
    "    go.Scatter(x=years, y=away_stat[\"median\"], name=\"median away\", line=dict(color='blue', width=2))    \n",
    "]\n",
    "layout = go.Layout(title=f\"away goals for {team}\",\n",
    "                   xaxis=dict(title=\"year\"),\n",
    "                   yaxis={'title':'goals'})\n",
    "fig = go.Figure(data=traces, layout=layout)\n",
    "fig\n"
   ]
  }
 ],
 "metadata": {
  "kernelspec": {
   "display_name": "Python 3",
   "language": "python",
   "name": "python3"
  },
  "language_info": {
   "codemirror_mode": {
    "name": "ipython",
    "version": 3
   },
   "file_extension": ".py",
   "mimetype": "text/x-python",
   "name": "python",
   "nbconvert_exporter": "python",
   "pygments_lexer": "ipython3",
   "version": "3.7.6"
  }
 },
 "nbformat": 4,
 "nbformat_minor": 4
}
