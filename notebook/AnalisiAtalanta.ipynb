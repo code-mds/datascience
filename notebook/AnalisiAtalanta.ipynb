{
 "cells": [
  {
   "cell_type": "markdown",
   "metadata": {},
   "source": [
    "# Atalanta 2010-2020 from Serie B to Champions\n",
    "\n",
    "This notebook uses data from the [https://www.football-data.co.uk]\n",
    "The "
   ]
  },
  {
   "cell_type": "code",
   "execution_count": null,
   "metadata": {},
   "outputs": [],
   "source": [
    "import pandas as pd\n",
    "import numpy as np\n",
    "import datetime\n",
    "import collections\n",
    "\n",
    "import plotly.graph_objects as go\n",
    "from plotly.subplots import make_subplots\n",
    "\n",
    "# Define the LEAGUE, TEAM and the PERIOD of analysis (start/end year)\n",
    "league='I1'\n",
    "selected_team = 'Atalanta'\n",
    "start_year=11\n",
    "end_year=18\n",
    "\n",
    "seasons = []\n",
    "for year in range(start_year, end_year+1):\n",
    "    seasons.append(str(year)+str(year+1))\n",
    "\n",
    "def geturl(season, league):\n",
    "    return f\"https://www.football-data.co.uk/mmz4281/{season}/{league}.csv\"\n",
    "\n",
    "\n",
    "# Div = League Division\n",
    "# Date = Match Date (dd/mm/yy)\n",
    "# HomeTeam = Home Team\n",
    "# AwayTeam = Away Team\n",
    "# FTR and Res = Full Time Result (H=Home Win, D=Draw, A=Away Win)\n",
    "base_cols=['Date', 'HomeTeam', 'AwayTeam', 'FTR']\n",
    "\n",
    "# Match Statistics (where available)\n",
    "\n",
    "# FTHG and HG = Full Time Home Team Goals\n",
    "# HS = Home Team Shots\n",
    "# HST = Home Team Shots on Target\n",
    "# HHW = Home Team Hit Woodwork (NOT AVAILABLE)\n",
    "# HC = Home Team Corners\n",
    "# HF = Home Team Fouls Committed\n",
    "# HFKC = Home Team Free Kicks Conceded (NOT AVAILABLE)\n",
    "# HO = Home Team Offsides (NOT AVAILABLE)\n",
    "# HY = Home Team Yellow Cards\n",
    "# HR = Home Team Red Cards\n",
    "home_cols=['FTHG','HS','HST','HF','HC','HY','HR']\n",
    "\n",
    "# FTAG and AG = Full Time Away Team Goals\n",
    "# AS = Away Team Shots\n",
    "# AST = Away Team Shots on Target\n",
    "# AHW = Away Team Hit Woodwork (NOT AVAILABLE)\n",
    "# AC = Away Team Corners\n",
    "# AF = Away Team Fouls Committed\n",
    "# AFKC = Away Team Free Kicks Conceded (NOT AVAILABLE)\n",
    "# AO = Away Team Offsides (NOT AVAILABLE)\n",
    "# AY = Away Team Yellow Cards\n",
    "# AR = Away Team Red Cards\n",
    "away_cols =['FTAG','AS','AST','AF','AC','AY','AR']\n",
    "use_cols = base_cols + home_cols + away_cols\n",
    "\n",
    "#point_map_home = \n",
    "#point_map_away = {'H':0, 'D':1, 'A':3}\n",
    "\n",
    "li = []\n",
    "for season in seasons:\n",
    "    #df = pd.read_csv(geturl(season), index_col='Date', parse_dates=['Date']) \n",
    "    fulldf = pd.read_csv(geturl(season, league), parse_dates=['Date'], usecols=use_cols)     \n",
    "    fulldf['Season'] = season[0:2] + '/' + season[2:]\n",
    "    fulldf['HomePoint'] = fulldf['FTR'].map({'H':3, 'D':1, 'A':0})\n",
    "    fulldf['AwayPoint'] = fulldf['FTR'].map({'H':0, 'D':1, 'A':3})\n",
    "    fulldf['GDiff'] = 0\n",
    "    li.append(fulldf)\n",
    "\n",
    "fulldf = pd.concat(li, sort=False)\n",
    "fulldf.set_index('Season', inplace=True)"
   ]
  },
  {
   "cell_type": "markdown",
   "metadata": {},
   "source": [
    "## Full dataset"
   ]
  },
  {
   "cell_type": "code",
   "execution_count": null,
   "metadata": {},
   "outputs": [],
   "source": [
    "fulldf"
   ]
  },
  {
   "cell_type": "code",
   "execution_count": null,
   "metadata": {},
   "outputs": [],
   "source": [
    "# utility functions\n",
    "TeamData = collections.namedtuple('TeamData', 'my_home_stats, vs_home_stats, my_away_stats, vs_away_stats, my_tot_stats, vs_tot_stats')\n",
    "\n",
    "def normalize_df(adf, cols):\n",
    "    norm_cols = ['Goal', 'Shots', 'ShotsTarget', 'Corner', 'Fouls', 'YellowCard', 'RedCard','Point', 'GDiff']\n",
    "    stats_df = adf.groupby(adf.index).sum()[cols]\n",
    "    stats_df.columns = norm_cols\n",
    "    return stats_df\n",
    "\n",
    "def build_team_data(team, df, home_cols, away_cols):\n",
    "    # filter the entire dataset keeping only the rows where appear my team (home and away matches)\n",
    "    homedf = df[(df.loc[:,\"HomeTeam\"] == team)]\n",
    "    awaydf = df[(df.loc[:,\"AwayTeam\"] == team)]\n",
    "\n",
    "    # Modify the HOME DataFrame assigning to MY team the HOME statistics \n",
    "    # ('FTHG', 'HS', ...) and rename these columns as Standard columns ('Goal', 'Shots', ...)\n",
    "    my_home_stats = normalize_df(homedf, home_cols)\n",
    "    \n",
    "    # Modify the HOME DataFrame assigning to the VS team the AWAY statistics \n",
    "    vs_home_stats = normalize_df(homedf, away_cols)\n",
    "    \n",
    "    # Modify the AWAY DataFrame assigning to MY team the AWAY statistics \n",
    "    my_away_stats = normalize_df(awaydf, away_cols)\n",
    "    \n",
    "    # Modify the AWAY DataFrame assigning to the VS team the HOME statistics \n",
    "    vs_away_stats = normalize_df(awaydf, home_cols)\n",
    "    \n",
    "    # sum MY home stats and away stats\n",
    "    my_tot_stats = my_home_stats + my_away_stats \n",
    "    \n",
    "    # sum VS home stats and away stats\n",
    "    vs_tot_stats = vs_home_stats + vs_away_stats \n",
    "    \n",
    "    # update the GDiff column in my_tot_stas as the difference of MY goals and VS goals\n",
    "    my_tot_stats['GDiff'] = my_tot_stats['Goal'] - vs_tot_stats['Goal']\n",
    "    \n",
    "    data = TeamData(my_home_stats, vs_home_stats, my_away_stats, vs_away_stats, my_tot_stats, vs_tot_stats)\n",
    "    return data"
   ]
  },
  {
   "cell_type": "code",
   "execution_count": null,
   "metadata": {},
   "outputs": [],
   "source": [
    "# get unique team name from the full data frame \n",
    "teams = set(fulldf['HomeTeam'])\n",
    "teams = list(filter(lambda i:(type(i) is str), teams))\n",
    "\n",
    "teams_dic={}\n",
    "hcols = home_cols + ['HomePoint', 'GDiff']\n",
    "acols = away_cols + ['AwayPoint', 'GDiff']\n",
    "\n",
    "for team in teams:\n",
    "    teams_dic[team] = build_team_data(team, fulldf, hcols, acols)    "
   ]
  },
  {
   "cell_type": "markdown",
   "metadata": {},
   "source": [
    "## Selected Team Total Stats"
   ]
  },
  {
   "cell_type": "code",
   "execution_count": null,
   "metadata": {},
   "outputs": [],
   "source": [
    "res = teams_dic[selected_team].my_tot_stats\n",
    "res"
   ]
  },
  {
   "cell_type": "markdown",
   "metadata": {},
   "source": [
    "## Visualization"
   ]
  },
  {
   "cell_type": "code",
   "execution_count": null,
   "metadata": {},
   "outputs": [],
   "source": [
    "# utility functions\n",
    "\n",
    "def compare_histograms(a, b, col, a_name, b_name):\n",
    "    data = [go.Bar(x=a.index, y=a[col], opacity=0.4, name=a_name),\n",
    "            go.Bar(x=b.index, y=b[col], opacity=0.4, width=0.5, name=b_name)]\n",
    "    layout = go.Layout(barmode='overlay')\n",
    "    fig = go.Figure(data, layout)\n",
    "    return fig\n",
    "\n",
    "def addTrace(fig, trace, title, row, col=1):\n",
    "    fig.add_trace(trace, row=row, col=col)\n",
    "    fig.update_yaxes(title_text=title, row=row, col=col)\n"
   ]
  },
  {
   "cell_type": "code",
   "execution_count": null,
   "metadata": {
    "scrolled": true
   },
   "outputs": [],
   "source": [
    "# specs=[[{'colspan': 2},None], [{'colspan': 2}, {}], [{}, {}], [{}, {}], [{}, {}], [{}, {}] ]\n",
    "t = teams_dic[selected_team]\n",
    "\n",
    "data = {\n",
    "    'Points': go.Scatter(x = t.my_tot_stats.index, y = t.my_tot_stats['Point'], name='Points'),\n",
    "    'Goal balance': go.Bar(x = t.my_tot_stats.index, y = t.my_tot_stats['GDiff'], name='Goal Difference', opacity=0.5),\n",
    "    'Goal': go.Scatter(x = t.my_tot_stats.index, y = t.my_tot_stats['Goal'], name='Goals'),\n",
    "    'Home Goal': go.Bar(x = t.my_home_stats.index, y = t.my_home_stats['Goal'], name='Home Goal', opacity=0.5, width=0.05),\n",
    "    'Away Goal': go.Bar(x = t.my_away_stats.index, y = t.my_away_stats['Goal'], name='Away Goal', opacity=0.5, width=0.05),\n",
    "    'Concedes': go.Scatter(x = t.vs_tot_stats.index, y = t.vs_tot_stats['Goal'], name='Goal Concedes'),\n",
    "    'Home Concedes': go.Bar(x = t.vs_home_stats.index, y = t.vs_home_stats['Goal'], name='Home Concedes', opacity=0.5, width=0.05),\n",
    "    'Away Concedes': go.Bar(x = t.vs_away_stats.index, y = t.vs_away_stats['Goal'], name='Away Concedes', opacity=0.5, width=0.05),\n",
    "    'Shots': go.Scatter(x = t.my_tot_stats.index, y = t.my_tot_stats['Shots'], name='Shots'),\n",
    "    'On Target': go.Scatter(x = t.my_tot_stats.index, y = t.my_tot_stats['ShotsTarget'], name='Shots on target'), \n",
    "    'Fouls': go.Scatter(x = t.my_tot_stats.index, y = t.my_tot_stats['Fouls'], name='Fouls'),\n",
    "    'Corners': go.Scatter(x = t.my_tot_stats.index, y = t.my_tot_stats['Corner'], name='Corner'), \n",
    "    'Yellow Cards': go.Scatter(x = t.my_tot_stats.index, y = t.my_tot_stats['YellowCard'], name='Yellow Card'), \n",
    "    'Red Cards': go.Scatter(x = t.my_tot_stats.index, y = t.my_tot_stats['RedCard'], name='Red Card') #, showlegend=False), \n",
    "}\n",
    "\n",
    "   \n",
    "#fig = make_subplots(shared_xaxes=True, rows=10, cols=1, subplot_titles=list(traces.keys()))\n",
    "fig = make_subplots(shared_xaxes=True, rows=10, cols=1, x_title='Season')\n",
    "\n",
    "addTrace(fig, data['Points'], 'Points', 1)\n",
    "addTrace(fig, data['Goal balance'], 'Goal balance', 2)\n",
    "addTrace(fig, data['Goal'], 'Goal', 3)\n",
    "addTrace(fig, data['Home Goal'], 'Goal', 3)\n",
    "addTrace(fig, data['Away Goal'], 'Goal', 3)\n",
    "addTrace(fig, data['Concedes'], 'Concedes', 4)\n",
    "addTrace(fig, data['Home Concedes'], 'Concedes', 4)\n",
    "addTrace(fig, data['Away Concedes'], 'Concedes', 4)\n",
    "addTrace(fig, data['Shots'], 'Shots', 5)\n",
    "addTrace(fig, data['On Target'], 'On Target', 6)\n",
    "addTrace(fig, data['Fouls'], 'Fouls', 7)\n",
    "addTrace(fig, data['Corners'], 'Corners', 8)\n",
    "addTrace(fig, data['Yellow Cards'], 'Yellow Cards', 9)\n",
    "addTrace(fig, data['Red Cards'], 'Red Cards', 10)\n",
    "\n",
    "fig.update_traces(showlegend=False)\n",
    "fig.update_layout(title_text=f\"Game analysis ({selected_team})\", height=1500, barmode='stack')\n",
    "fig.show()\n"
   ]
  },
  {
   "cell_type": "code",
   "execution_count": null,
   "metadata": {},
   "outputs": [],
   "source": [
    "data = [\n",
    "    go.Bar(x = t.my_tot_stats.index, y = t.my_tot_stats['Goal'], opacity=0.5, name='total goals'),\n",
    "    go.Bar(x = t.vs_tot_stats.index, y = t.vs_tot_stats['Goal'], opacity=0.5, name='total concedes')]\n",
    "layout = {\n",
    "    'title': f'Goals vs Concedes comparison ({selected_team})',\n",
    "    'xaxis': { 'title': 'Season' },\n",
    "    'yaxis': { 'title': 'Goals' }\n",
    "}\n",
    "fig = go.Figure(data, layout)\n",
    "fig.show()"
   ]
  },
  {
   "cell_type": "code",
   "execution_count": null,
   "metadata": {},
   "outputs": [],
   "source": [
    "# Check correlation between Goals and Points using all teams from the entire dataset\n",
    "data = {'Goal Difference':[], 'Total Goal':[], 'Total Concedes':[]}\n",
    "fig = make_subplots(shared_xaxes=True, rows=3, cols=1, x_title='Points')\n",
    "\n",
    "for k,t in teams_dic.items():\n",
    "    data['Goal Difference'].append(go.Scatter(y = t.my_tot_stats['GDiff'], x = t.my_tot_stats['Point'], mode='markers', name=k))\n",
    "    data['Total Goal'].append(go.Scatter(y = t.my_tot_stats['Goal'], x = t.my_tot_stats['Point'], mode='markers', name=k))\n",
    "    data['Total Concedes'].append(go.Scatter(y = t.vs_tot_stats['Goal'], x = t.my_tot_stats['Point'], mode='markers', name=k))\n",
    "    \n",
    "for i, k in enumerate(data):\n",
    "    for g in data[k]:\n",
    "        fig.add_trace(g, row=i+1, col=1)\n",
    "        fig.update_yaxes(title_text=k, row=i+1, col=1)\n",
    "\n",
    "fig.update_traces(showlegend=False)\n",
    "fig.update_layout(title_text=f\"Correlation graphs (All teams)\")\n",
    "fig.show()"
   ]
  }
 ],
 "metadata": {
  "kernelspec": {
   "display_name": "Python 3",
   "language": "python",
   "name": "python3"
  },
  "language_info": {
   "codemirror_mode": {
    "name": "ipython",
    "version": 3
   },
   "file_extension": ".py",
   "mimetype": "text/x-python",
   "name": "python",
   "nbconvert_exporter": "python",
   "pygments_lexer": "ipython3",
   "version": "3.7.6"
  }
 },
 "nbformat": 4,
 "nbformat_minor": 4
}
