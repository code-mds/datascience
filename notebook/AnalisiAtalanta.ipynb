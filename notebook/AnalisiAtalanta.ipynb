{
 "cells": [
  {
   "cell_type": "markdown",
   "metadata": {},
   "source": [
    "# Atalanta 2010-2020 from Serie B to Champions\n",
    "\n",
    "This notebook uses data from the [https://www.football-data.co.uk]"
   ]
  },
  {
   "cell_type": "code",
   "execution_count": 1,
   "metadata": {},
   "outputs": [
    {
     "name": "stdout",
     "output_type": "stream",
     "text": [
      "Last executed 2020-03-24 22:45:13.595916\n"
     ]
    }
   ],
   "source": [
    "import datetime\n",
    "print(f\"Last executed {datetime.datetime.now()}\")"
   ]
  },
  {
   "cell_type": "code",
   "execution_count": 2,
   "metadata": {},
   "outputs": [
    {
     "ename": "ModuleNotFoundError",
     "evalue": "No module named 'plotly'",
     "output_type": "error",
     "traceback": [
      "\u001b[1;31m---------------------------------------------------------------------------\u001b[0m",
      "\u001b[1;31mModuleNotFoundError\u001b[0m                       Traceback (most recent call last)",
      "\u001b[1;32m<ipython-input-2-05740028facf>\u001b[0m in \u001b[0;36m<module>\u001b[1;34m\u001b[0m\n\u001b[0;32m      1\u001b[0m \u001b[1;32mimport\u001b[0m \u001b[0mpandas\u001b[0m \u001b[1;32mas\u001b[0m \u001b[0mpd\u001b[0m\u001b[1;33m\u001b[0m\u001b[1;33m\u001b[0m\u001b[0m\n\u001b[0;32m      2\u001b[0m \u001b[1;32mimport\u001b[0m \u001b[0mnumpy\u001b[0m \u001b[1;32mas\u001b[0m \u001b[0mnp\u001b[0m\u001b[1;33m\u001b[0m\u001b[1;33m\u001b[0m\u001b[0m\n\u001b[1;32m----> 3\u001b[1;33m \u001b[1;32mimport\u001b[0m \u001b[0mplotly\u001b[0m\u001b[1;33m.\u001b[0m\u001b[0mgraph_objects\u001b[0m \u001b[1;32mas\u001b[0m \u001b[0mgo\u001b[0m\u001b[1;33m\u001b[0m\u001b[1;33m\u001b[0m\u001b[0m\n\u001b[0m",
      "\u001b[1;31mModuleNotFoundError\u001b[0m: No module named 'plotly'"
     ]
    }
   ],
   "source": [
    "import pandas as pd\n",
    "import numpy as np\n",
    "import plotly.graph_objects as go"
   ]
  },
  {
   "cell_type": "markdown",
   "metadata": {},
   "source": [
    "## Importing data"
   ]
  },
  {
   "cell_type": "code",
   "execution_count": null,
   "metadata": {},
   "outputs": [],
   "source": [
    "seasons = []\n",
    "for year in range(10,19):\n",
    "    seasons.append(str(year)+str(year+1))"
   ]
  },
  {
   "cell_type": "code",
   "execution_count": null,
   "metadata": {},
   "outputs": [],
   "source": [
    "def geturl(var):\n",
    "    return f\"https://www.football-data.co.uk/mmz4281/{var}/I1.csv\"\n",
    "\n",
    "li = []\n",
    "for season in seasons:\n",
    "    df = pd.read_csv(geturl(season), index_col='Date', parse_dates=['Date']) \n",
    "                     #usecols=[\"Date\", \"HomeTeam\", \"AwayTeam\", \"FTHG\"])     \n",
    "    li.append(df)\n",
    "\n",
    "df = pd.concat(li, sort=False)\n",
    "df"
   ]
  },
  {
   "cell_type": "code",
   "execution_count": null,
   "metadata": {},
   "outputs": [],
   "source": [
    "# Div = League Division\n",
    "# Date = Match Date (dd/mm/yy)\n",
    "# Time = Time of match kick off\n",
    "# HomeTeam = Home Team\n",
    "# AwayTeam = Away Team\n",
    "# FTHG and HG = Full Time Home Team Goals\n",
    "# FTAG and AG = Full Time Away Team Goals\n",
    "# FTR and Res = Full Time Result (H=Home Win, D=Draw, A=Away Win)\n",
    "# HTHG = Half Time Home Team Goals\n",
    "# HTAG = Half Time Away Team Goals\n",
    "# HTR = Half Time Result (H=Home Win, D=Draw, A=Away Win)\n",
    "\n",
    "# Match Statistics (where available)\n",
    "# Attendance = Crowd Attendance\n",
    "# Referee = Match Referee\n",
    "# HS = Home Team Shots\n",
    "# AS = Away Team Shots\n",
    "# HST = Home Team Shots on Target\n",
    "# AST = Away Team Shots on Target\n",
    "# HHW = Home Team Hit Woodwork\n",
    "# AHW = Away Team Hit Woodwork\n",
    "# HC = Home Team Corners\n",
    "# AC = Away Team Corners\n",
    "# HF = Home Team Fouls Committed\n",
    "# AF = Away Team Fouls Committed\n",
    "# HFKC = Home Team Free Kicks Conceded\n",
    "# AFKC = Away Team Free Kicks Conceded\n",
    "# HO = Home Team Offsides\n",
    "# AO = Away Team Offsides\n",
    "# HY = Home Team Yellow Cards\n",
    "# AY = Away Team Yellow Cards\n",
    "# HR = Home Team Red Cards\n",
    "# AR = Away Team Red Cards\n",
    "# HBP = Home Team Bookings Points (10 = yellow, 25 = red)\n",
    "# ABP = Away Team Bookings Points (10 = yellow, 25 = red)"
   ]
  },
  {
   "cell_type": "markdown",
   "metadata": {},
   "source": [
    "Choose below which data to consider.  The cell will select the appropriate row for the table, and only consider columns from the fifth onwards (i.e. ignoring the first four) "
   ]
  },
  {
   "cell_type": "code",
   "execution_count": null,
   "metadata": {},
   "outputs": [],
   "source": [
    "#FTHG and HG = Full Time Home Team Goals\n",
    "#FTAG and AG = Full Time Away Team Goals\n",
    "#FTR and Res = Full Time Result (H=Home Win, D=Draw, A=Away Win)\n",
    "team = \"Atalanta\"\n",
    "home = df.loc[:,\"HomeTeam\"] == team\n",
    "away = df.loc[:,\"AwayTeam\"] == team\n",
    "cases = df[home|away].iloc[:,1:22]\n",
    "dates = cases.index\n",
    "cases"
   ]
  },
  {
   "cell_type": "markdown",
   "metadata": {},
   "source": [
    "## Visualization"
   ]
  }
 ],
 "metadata": {
  "kernelspec": {
   "display_name": "Python 3",
   "language": "python",
   "name": "python3"
  },
  "language_info": {
   "codemirror_mode": {
    "name": "ipython",
    "version": 3
   },
   "file_extension": ".py",
   "mimetype": "text/x-python",
   "name": "python",
   "nbconvert_exporter": "python",
   "pygments_lexer": "ipython3",
   "version": "3.7.4"
  }
 },
 "nbformat": 4,
 "nbformat_minor": 4
}
